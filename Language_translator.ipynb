{
  "nbformat": 4,
  "nbformat_minor": 0,
  "metadata": {
    "colab": {
      "name": "Language_translator.ipynb",
      "provenance": [],
      "collapsed_sections": [],
      "toc_visible": true,
      "mount_file_id": "1Sco3pmbd8domioeTqo84HoI4ORQ5k3by",
      "authorship_tag": "ABX9TyOXKB8QjphcX1XxJMIf66vb",
      "include_colab_link": true
    },
    "kernelspec": {
      "name": "python3",
      "display_name": "Python 3"
    },
    "language_info": {
      "name": "python"
    },
    "accelerator": "GPU"
  },
  "cells": [
    {
      "cell_type": "markdown",
      "metadata": {
        "id": "view-in-github",
        "colab_type": "text"
      },
      "source": [
        "<a href=\"https://colab.research.google.com/github/PritamKhaire/PritamKhaire/blob/main/Language_translator.ipynb\" target=\"_parent\"><img src=\"https://colab.research.google.com/assets/colab-badge.svg\" alt=\"Open In Colab\"/></a>"
      ]
    },
    {
      "cell_type": "code",
      "metadata": {
        "colab": {
          "base_uri": "https://localhost:8080/"
        },
        "id": "Cb8yMyQkAbfZ",
        "outputId": "7ac469a2-4c12-49f6-e000-ddbcfaa45de1"
      },
      "source": [
        "%tensorflow_version 2.x\n",
        "import tensorflow as tf\n",
        "device_name = tf.test.gpu_device_name()\n",
        "if device_name != '/device:GPU:0':\n",
        "  raise SystemError('GPU device not found')\n",
        "print('Found GPU at: {}'.format(device_name))"
      ],
      "execution_count": 2,
      "outputs": [
        {
          "output_type": "stream",
          "text": [
            "Found GPU at: /device:GPU:0\n"
          ],
          "name": "stdout"
        }
      ]
    },
    {
      "cell_type": "code",
      "metadata": {
        "id": "hgxomtkuBYlz"
      },
      "source": [
        "import pandas as pd\n",
        "import numpy as np\n",
        "import re\n",
        "import os\n",
        "import time\n",
        "import string\n",
        "from sklearn.utils import shuffle\n",
        "from sklearn.model_selection import train_test_split\n",
        "import unicodedata\n",
        "\n",
        "from keras.layers import Input, LSTM, Embedding, Dense\n",
        "from keras.models import Model"
      ],
      "execution_count": 4,
      "outputs": []
    },
    {
      "cell_type": "code",
      "metadata": {
        "id": "N4950jZuBGkf"
      },
      "source": [
        "# Fetch the text data\n",
        "lines = pd.read_table('./sample_data/mar.txt', names = ['eng', 'mar'])"
      ],
      "execution_count": 6,
      "outputs": []
    },
    {
      "cell_type": "code",
      "metadata": {
        "id": "UvJ2q7kLBUFU"
      },
      "source": [
        "lines[\"english\"] = lines.index\n",
        "lines[\"marathi\"] = lines.eng"
      ],
      "execution_count": 7,
      "outputs": []
    },
    {
      "cell_type": "code",
      "metadata": {
        "id": "80g2WPuLBVkk"
      },
      "source": [
        "lines.drop([\"eng\", \"mar\"], axis = 1, inplace = True)\n",
        "lines = lines.reset_index(drop = True)"
      ],
      "execution_count": 8,
      "outputs": []
    },
    {
      "cell_type": "code",
      "metadata": {
        "colab": {
          "base_uri": "https://localhost:8080/",
          "height": 164
        },
        "id": "2wSvxuTbFcBp",
        "outputId": "e99ee3f5-6c14-490b-8f28-0e0b92c79638"
      },
      "source": [
        "lines.describe()"
      ],
      "execution_count": 9,
      "outputs": [
        {
          "output_type": "execute_result",
          "data": {
            "text/html": [
              "<div>\n",
              "<style scoped>\n",
              "    .dataframe tbody tr th:only-of-type {\n",
              "        vertical-align: middle;\n",
              "    }\n",
              "\n",
              "    .dataframe tbody tr th {\n",
              "        vertical-align: top;\n",
              "    }\n",
              "\n",
              "    .dataframe thead th {\n",
              "        text-align: right;\n",
              "    }\n",
              "</style>\n",
              "<table border=\"1\" class=\"dataframe\">\n",
              "  <thead>\n",
              "    <tr style=\"text-align: right;\">\n",
              "      <th></th>\n",
              "      <th>english</th>\n",
              "      <th>marathi</th>\n",
              "    </tr>\n",
              "  </thead>\n",
              "  <tbody>\n",
              "    <tr>\n",
              "      <th>count</th>\n",
              "      <td>41028</td>\n",
              "      <td>41028</td>\n",
              "    </tr>\n",
              "    <tr>\n",
              "      <th>unique</th>\n",
              "      <td>26581</td>\n",
              "      <td>40085</td>\n",
              "    </tr>\n",
              "    <tr>\n",
              "      <th>top</th>\n",
              "      <td>He works in a bank.</td>\n",
              "      <td>तो माझा भाऊ आहे.</td>\n",
              "    </tr>\n",
              "    <tr>\n",
              "      <th>freq</th>\n",
              "      <td>12</td>\n",
              "      <td>4</td>\n",
              "    </tr>\n",
              "  </tbody>\n",
              "</table>\n",
              "</div>"
            ],
            "text/plain": [
              "                    english           marathi\n",
              "count                 41028             41028\n",
              "unique                26581             40085\n",
              "top     He works in a bank.  तो माझा भाऊ आहे.\n",
              "freq                     12                 4"
            ]
          },
          "metadata": {
            "tags": []
          },
          "execution_count": 9
        }
      ]
    },
    {
      "cell_type": "code",
      "metadata": {
        "colab": {
          "base_uri": "https://localhost:8080/",
          "height": 194
        },
        "id": "WYSTXLzaf_nr",
        "outputId": "5bdfd68d-dbfa-43c3-cd35-d411e648fc80"
      },
      "source": [
        "lines.head()"
      ],
      "execution_count": 10,
      "outputs": [
        {
          "output_type": "execute_result",
          "data": {
            "text/html": [
              "<div>\n",
              "<style scoped>\n",
              "    .dataframe tbody tr th:only-of-type {\n",
              "        vertical-align: middle;\n",
              "    }\n",
              "\n",
              "    .dataframe tbody tr th {\n",
              "        vertical-align: top;\n",
              "    }\n",
              "\n",
              "    .dataframe thead th {\n",
              "        text-align: right;\n",
              "    }\n",
              "</style>\n",
              "<table border=\"1\" class=\"dataframe\">\n",
              "  <thead>\n",
              "    <tr style=\"text-align: right;\">\n",
              "      <th></th>\n",
              "      <th>english</th>\n",
              "      <th>marathi</th>\n",
              "    </tr>\n",
              "  </thead>\n",
              "  <tbody>\n",
              "    <tr>\n",
              "      <th>0</th>\n",
              "      <td>Go.</td>\n",
              "      <td>जा.</td>\n",
              "    </tr>\n",
              "    <tr>\n",
              "      <th>1</th>\n",
              "      <td>Run!</td>\n",
              "      <td>पळ!</td>\n",
              "    </tr>\n",
              "    <tr>\n",
              "      <th>2</th>\n",
              "      <td>Run!</td>\n",
              "      <td>धाव!</td>\n",
              "    </tr>\n",
              "    <tr>\n",
              "      <th>3</th>\n",
              "      <td>Run!</td>\n",
              "      <td>पळा!</td>\n",
              "    </tr>\n",
              "    <tr>\n",
              "      <th>4</th>\n",
              "      <td>Run!</td>\n",
              "      <td>धावा!</td>\n",
              "    </tr>\n",
              "  </tbody>\n",
              "</table>\n",
              "</div>"
            ],
            "text/plain": [
              "  english marathi\n",
              "0     Go.     जा.\n",
              "1    Run!     पळ!\n",
              "2    Run!    धाव!\n",
              "3    Run!    पळा!\n",
              "4    Run!   धावा!"
            ]
          },
          "metadata": {
            "tags": []
          },
          "execution_count": 10
        }
      ]
    },
    {
      "cell_type": "code",
      "metadata": {
        "id": "IacRQxKJgAWZ"
      },
      "source": [
        "def unicode_to_ascii(input_string):\n",
        "  return \"\".join(c for c in unicodedata.normalize('NFD', input_string) if unicodedata.category(c) != 'Mn')"
      ],
      "execution_count": 11,
      "outputs": []
    },
    {
      "cell_type": "code",
      "metadata": {
        "id": "0iExJFMQgl_q"
      },
      "source": [
        "def preprocess_sentence(sentence):\n",
        "  w = unicode_to_ascii(sentence.lower().strip())\n",
        "\n",
        "  # Create a space between a word and punctuation following\n",
        "  w = re.sub(r\"([?.!,])\", r\" \\1 \", w)\n",
        "  w = re.sub(r'[\" \"]+ ', \" \", w )\n",
        "\n",
        "  w = re.sub(r\"'\", r'', w)\n",
        "  \n",
        "\n",
        "  exclude = set(string.punctuation)\n",
        "  remove_digits = str.maketrans('', '', string.digits)\n",
        "  w = \"\".join(ch for ch in w if ch not in exclude)\n",
        "  w = w.translate(remove_digits)\n",
        "  w = re.sub(r\"[२३०८१५७९४६]\", \"\", w)\n",
        "  w = re.sub(r\" +\", r\" \", w)\n",
        "  w = w.strip()\n",
        "  w = '<statr> ' + w + ' <end>'\n",
        "  return w"
      ],
      "execution_count": 12,
      "outputs": []
    },
    {
      "cell_type": "code",
      "metadata": {
        "id": "X9kZGQO0kizl"
      },
      "source": [
        "def create_dataset(file_name):\n",
        "  file_name.english = file_name.english.apply(lambda x : preprocess_sentence(x))\n",
        "  file_name.marathi = file_name.marathi.apply(lambda x : preprocess_sentence(x))\n",
        "  return file_name.marathi, file_name.english"
      ],
      "execution_count": 13,
      "outputs": []
    },
    {
      "cell_type": "code",
      "metadata": {
        "id": "zCFAsHgdkmLD"
      },
      "source": [
        "# lines = create_dataset(lines)"
      ],
      "execution_count": null,
      "outputs": []
    },
    {
      "cell_type": "code",
      "metadata": {
        "colab": {
          "base_uri": "https://localhost:8080/",
          "height": 194
        },
        "id": "0_e4GSOFnTrJ",
        "outputId": "5be576d1-79ed-48c2-b7ef-f5fbe48eb8f5"
      },
      "source": [
        "lines.head()"
      ],
      "execution_count": 14,
      "outputs": [
        {
          "output_type": "execute_result",
          "data": {
            "text/html": [
              "<div>\n",
              "<style scoped>\n",
              "    .dataframe tbody tr th:only-of-type {\n",
              "        vertical-align: middle;\n",
              "    }\n",
              "\n",
              "    .dataframe tbody tr th {\n",
              "        vertical-align: top;\n",
              "    }\n",
              "\n",
              "    .dataframe thead th {\n",
              "        text-align: right;\n",
              "    }\n",
              "</style>\n",
              "<table border=\"1\" class=\"dataframe\">\n",
              "  <thead>\n",
              "    <tr style=\"text-align: right;\">\n",
              "      <th></th>\n",
              "      <th>english</th>\n",
              "      <th>marathi</th>\n",
              "    </tr>\n",
              "  </thead>\n",
              "  <tbody>\n",
              "    <tr>\n",
              "      <th>0</th>\n",
              "      <td>Go.</td>\n",
              "      <td>जा.</td>\n",
              "    </tr>\n",
              "    <tr>\n",
              "      <th>1</th>\n",
              "      <td>Run!</td>\n",
              "      <td>पळ!</td>\n",
              "    </tr>\n",
              "    <tr>\n",
              "      <th>2</th>\n",
              "      <td>Run!</td>\n",
              "      <td>धाव!</td>\n",
              "    </tr>\n",
              "    <tr>\n",
              "      <th>3</th>\n",
              "      <td>Run!</td>\n",
              "      <td>पळा!</td>\n",
              "    </tr>\n",
              "    <tr>\n",
              "      <th>4</th>\n",
              "      <td>Run!</td>\n",
              "      <td>धावा!</td>\n",
              "    </tr>\n",
              "  </tbody>\n",
              "</table>\n",
              "</div>"
            ],
            "text/plain": [
              "  english marathi\n",
              "0     Go.     जा.\n",
              "1    Run!     पळ!\n",
              "2    Run!    धाव!\n",
              "3    Run!    पळा!\n",
              "4    Run!   धावा!"
            ]
          },
          "metadata": {
            "tags": []
          },
          "execution_count": 14
        }
      ]
    },
    {
      "cell_type": "code",
      "metadata": {
        "id": "4LUzCjzInbS8"
      },
      "source": [
        "def tokenize(lang):\n",
        "  lang_tokenizer = tf.keras.preprocessing.text.Tokenizer(filters='')\n",
        "  lang_tokenizer.fit_on_texts(lang)\n",
        "\n",
        "  tensor = lang_tokenizer.texts_to_sequences(lang)\n",
        "  tensor = tf.keras.preprocessing.sequence.pad_sequences(tensor, padding=\"post\")\n",
        "  return tensor, lang_tokenizer"
      ],
      "execution_count": 15,
      "outputs": []
    },
    {
      "cell_type": "code",
      "metadata": {
        "id": "BYvBlAlztBO7"
      },
      "source": [
        "def load_dataset(lines):\n",
        "  target_lang, input_lang = create_dataset(lines)\n",
        "  input_tensor, inp_lang_tokenizer = tokenize(input_lang)\n",
        "  target_tensor, targ_lang_tokenizer = tokenize(target_lang)\n",
        "\n",
        "  return input_tensor, target_tensor, inp_lang_tokenizer, targ_lang_tokenizer"
      ],
      "execution_count": 16,
      "outputs": []
    },
    {
      "cell_type": "code",
      "metadata": {
        "id": "E1ftwP25t4BQ"
      },
      "source": [
        "input_tensor, target_tensor, inp_lang_tokenizer, targ_lang_tokenizer = load_dataset(lines)"
      ],
      "execution_count": 17,
      "outputs": []
    },
    {
      "cell_type": "code",
      "metadata": {
        "id": "tzTQlrDP3dBc"
      },
      "source": [
        "# Calculate max_length of the target tensors\n",
        "max_length_targ, max_length_inp = target_tensor.shape[1], input_tensor.shape[1]"
      ],
      "execution_count": 18,
      "outputs": []
    },
    {
      "cell_type": "code",
      "metadata": {
        "colab": {
          "base_uri": "https://localhost:8080/"
        },
        "id": "d7yQ6ss1uNoD",
        "outputId": "076fe915-ca1f-4cbe-b36f-7928b6f29293"
      },
      "source": [
        "print(input_tensor.shape)\n",
        "print(target_tensor.shape)"
      ],
      "execution_count": 19,
      "outputs": [
        {
          "output_type": "stream",
          "text": [
            "(41028, 36)\n",
            "(41028, 37)\n"
          ],
          "name": "stdout"
        }
      ]
    },
    {
      "cell_type": "code",
      "metadata": {
        "id": "INajgBIxuQqN"
      },
      "source": [
        "max_len_targ, max_len_inp = target_tensor.shape[1], input_tensor.shape[1]"
      ],
      "execution_count": 20,
      "outputs": []
    },
    {
      "cell_type": "code",
      "metadata": {
        "colab": {
          "base_uri": "https://localhost:8080/"
        },
        "id": "Wy3tjCcou6-R",
        "outputId": "17fec87e-1e8e-41f7-88f3-8695cc45594c"
      },
      "source": [
        "## Creating training and testing set using 80-20\n",
        "input_tensor_train, input_tensor_val, target_tensor_train, target_tensor_val = train_test_split(input_tensor, target_tensor, test_size=0.2)\n",
        "print(len(input_tensor_train), len(target_tensor_train), len(input_tensor_val), len(target_tensor_val))"
      ],
      "execution_count": 21,
      "outputs": [
        {
          "output_type": "stream",
          "text": [
            "32822 32822 8206 8206\n"
          ],
          "name": "stdout"
        }
      ]
    },
    {
      "cell_type": "code",
      "metadata": {
        "id": "8M_YjuViu672"
      },
      "source": [
        "def convert(lang, tensor):\n",
        "  for t in tensor:\n",
        "    if t != 0:\n",
        "      print(f'{t} ------> {lang.index_word[t]}')"
      ],
      "execution_count": 22,
      "outputs": []
    },
    {
      "cell_type": "code",
      "metadata": {
        "colab": {
          "base_uri": "https://localhost:8080/"
        },
        "id": "iERJTgtMu62u",
        "outputId": "2fe25c3e-140b-4982-929e-b6bac7d69df6"
      },
      "source": [
        "print(\"Input language: Index to word mapping...\")\n",
        "convert(inp_lang_tokenizer, input_tensor_train[0])\n",
        "print(\"Target Language; index to word mapping\")\n",
        "convert(targ_lang_tokenizer, target_tensor_train[0])"
      ],
      "execution_count": 23,
      "outputs": [
        {
          "output_type": "stream",
          "text": [
            "Input language: Index to word mapping...\n",
            "1 ------> <statr>\n",
            "30 ------> im\n",
            "560 ------> standing\n",
            "10 ------> in\n",
            "6 ------> the\n",
            "2375 ------> shade\n",
            "2 ------> <end>\n",
            "Target Language; index to word mapping\n",
            "1 ------> <statr>\n",
            "4 ------> मी\n",
            "3746 ------> सावलीत\n",
            "603 ------> उभा\n",
            "3 ------> आह\n",
            "2 ------> <end>\n"
          ],
          "name": "stdout"
        }
      ]
    },
    {
      "cell_type": "code",
      "metadata": {
        "id": "bOSB2uN1nRtN"
      },
      "source": [
        "# Model parameter\n",
        "BUFFER_SIZE = len(input_tensor_train)\n",
        "BATCH_SIZE = 64\n",
        "EPOCH_SIZE = len(input_tensor_train) // BATCH_SIZE\n",
        "EMBEDING_DIM = 256\n",
        "UNITS = 1024\n",
        "\n",
        "VOCAB_INPUT_SIZE = len(inp_lang_tokenizer.word_index) + 1\n",
        "VOCAB_TAR_SIZE = len(targ_lang_tokenizer.word_index) + 1"
      ],
      "execution_count": 24,
      "outputs": []
    },
    {
      "cell_type": "code",
      "metadata": {
        "id": "UjPr0_mU0su_"
      },
      "source": [
        "# Create tensor dataset\n",
        "dataset = tf.data.Dataset.from_tensor_slices((input_tensor_train, target_tensor_train)).shuffle(BUFFER_SIZE)\n",
        "dataset = dataset.batch(BATCH_SIZE, drop_remainder = True)"
      ],
      "execution_count": 25,
      "outputs": []
    },
    {
      "cell_type": "code",
      "metadata": {
        "colab": {
          "base_uri": "https://localhost:8080/"
        },
        "id": "1-M2af5Ko2Yt",
        "outputId": "dfd18719-f695-48ba-e7d3-b0261f87e087"
      },
      "source": [
        "example_input_batch, example_target_batch = next(iter(dataset))\n",
        "print(example_input_batch.shape)\n",
        "print(example_target_batch.shape)"
      ],
      "execution_count": 26,
      "outputs": [
        {
          "output_type": "stream",
          "text": [
            "(64, 36)\n",
            "(64, 37)\n"
          ],
          "name": "stdout"
        }
      ]
    },
    {
      "cell_type": "code",
      "metadata": {
        "id": "DQGRcY_3o-_6"
      },
      "source": [
        "class Encoder(tf.keras.Model):\n",
        "  def __init__(self, vocab_size, embedding_dim, enc_units, batch_sz):\n",
        "    super(Encoder, self).__init__()\n",
        "    self.batch_sz = batch_sz\n",
        "    self.enc_units = enc_units\n",
        "    self.embedding = tf.keras.layers.Embedding(vocab_size, embedding_dim)\n",
        "    self.gru = tf.keras.layers.GRU(self.enc_units,\n",
        "                                   return_sequences=True,\n",
        "                                   return_state=True,\n",
        "                                   recurrent_initializer='glorot_uniform')\n",
        "\n",
        "  def call(self, x, hidden):\n",
        "    x = self.embedding(x)\n",
        "    output, state = self.gru(x, initial_state=hidden)\n",
        "    return output, state\n",
        "\n",
        "  def initialize_hidden_state(self):\n",
        "    return tf.zeros((self.batch_sz, self.enc_units))"
      ],
      "execution_count": 27,
      "outputs": []
    },
    {
      "cell_type": "code",
      "metadata": {
        "colab": {
          "base_uri": "https://localhost:8080/"
        },
        "id": "2po5q5XTqEcC",
        "outputId": "006c79dd-092b-4e09-8966-e9f51d55d43d"
      },
      "source": [
        "encoder = Encoder(VOCAB_INPUT_SIZE, EMBEDING_DIM, UNITS, BATCH_SIZE)\n",
        "\n",
        "# sample input\n",
        "sample_hidden = encoder.initialize_hidden_state()\n",
        "sample_output, sample_hidden = encoder(example_input_batch, sample_hidden)\n",
        "print('Encoder output shape: (batch size, sequence length, units)', sample_output.shape)\n",
        "print('Encoder Hidden state shape: (batch size, units)', sample_hidden.shape)"
      ],
      "execution_count": 28,
      "outputs": [
        {
          "output_type": "stream",
          "text": [
            "Encoder output shape: (batch size, sequence length, units) (64, 36, 1024)\n",
            "Encoder Hidden state shape: (batch size, units) (64, 1024)\n"
          ],
          "name": "stdout"
        }
      ]
    },
    {
      "cell_type": "code",
      "metadata": {
        "id": "AotVa3W4sOcK"
      },
      "source": [
        "class BahdanauAttention(tf.keras.layers.Layer):\n",
        "  def __init__(self, units):\n",
        "    super(BahdanauAttention, self).__init__()\n",
        "    self.W1 = tf.keras.layers.Dense(units)\n",
        "    self.W2 = tf.keras.layers.Dense(units)\n",
        "    self.V = tf.keras.layers.Dense(1)\n",
        "\n",
        "  def call(self, query, values):\n",
        "    # query hidden state shape == (batch_size, hidden size)\n",
        "    # query_with_time_axis shape == (batch_size, 1, hidden size)\n",
        "    # values shape == (batch_size, max_len, hidden size)\n",
        "    # we are doing this to broadcast addition along the time axis to calculate the score\n",
        "    query_with_time_axis = tf.expand_dims(query, 1)\n",
        "\n",
        "    # score shape == (batch_size, max_length, 1)\n",
        "    # we get 1 at the last axis because we are applying score to self.V\n",
        "    # the shape of the tensor before applying self.V is (batch_size, max_length, units)\n",
        "    score = self.V(tf.nn.tanh(\n",
        "        self.W1(query_with_time_axis) + self.W2(values)))\n",
        "\n",
        "    # attention_weights shape == (batch_size, max_length, 1)\n",
        "    attention_weights = tf.nn.softmax(score, axis=1)\n",
        "\n",
        "    # context_vector shape after sum == (batch_size, hidden_size)\n",
        "    context_vector = attention_weights * values\n",
        "    context_vector = tf.reduce_sum(context_vector, axis=1)\n",
        "\n",
        "    return context_vector, attention_weights"
      ],
      "execution_count": 29,
      "outputs": []
    },
    {
      "cell_type": "code",
      "metadata": {
        "colab": {
          "base_uri": "https://localhost:8080/"
        },
        "id": "snzuNcAYsSi6",
        "outputId": "5b1e70e0-ccbd-4552-d574-1d0db4b40f88"
      },
      "source": [
        "attention_layer = BahdanauAttention(10)\n",
        "attention_result, attention_weights = attention_layer(sample_hidden, sample_output)\n",
        "\n",
        "print(\"Attention result shape: (batch size, units)\", attention_result.shape)\n",
        "print(\"Attention weights shape: (batch_size, sequence_length, 1)\", attention_weights.shape)"
      ],
      "execution_count": 30,
      "outputs": [
        {
          "output_type": "stream",
          "text": [
            "Attention result shape: (batch size, units) (64, 1024)\n",
            "Attention weights shape: (batch_size, sequence_length, 1) (64, 36, 1)\n"
          ],
          "name": "stdout"
        }
      ]
    },
    {
      "cell_type": "code",
      "metadata": {
        "id": "M7h8IrIus6vr"
      },
      "source": [
        "class Decoder(tf.keras.Model):\n",
        "  def __init__(self, vocab_size, embedding_dim, dec_units, batch_sz):\n",
        "    super(Decoder, self).__init__()\n",
        "    self.batch_sz = batch_sz\n",
        "    self.dec_units = dec_units\n",
        "    self.embedding = tf.keras.layers.Embedding(vocab_size, embedding_dim)\n",
        "    self.gru = tf.keras.layers.GRU(self.dec_units,\n",
        "                                   return_sequences=True,\n",
        "                                   return_state=True,\n",
        "                                   recurrent_initializer='glorot_uniform')\n",
        "    self.fc = tf.keras.layers.Dense(vocab_size)\n",
        "\n",
        "    # used for attention\n",
        "    self.attention = BahdanauAttention(self.dec_units)\n",
        "\n",
        "  def call(self, x, hidden, enc_output):\n",
        "    # enc_output shape == (batch_size, max_length, hidden_size)\n",
        "    context_vector, attention_weights = self.attention(hidden, enc_output)\n",
        "\n",
        "    # x shape after passing through embedding == (batch_size, 1, embedding_dim)\n",
        "    x = self.embedding(x)\n",
        "\n",
        "    # x shape after concatenation == (batch_size, 1, embedding_dim + hidden_size)\n",
        "    x = tf.concat([tf.expand_dims(context_vector, 1), x], axis=-1)\n",
        "\n",
        "    # passing the concatenated vector to the GRU\n",
        "    output, state = self.gru(x)\n",
        "\n",
        "    # output shape == (batch_size * 1, hidden_size)\n",
        "    output = tf.reshape(output, (-1, output.shape[2]))\n",
        "\n",
        "    # output shape == (batch_size, vocab)\n",
        "    x = self.fc(output)\n",
        "\n",
        "    return x, state, attention_weights"
      ],
      "execution_count": 31,
      "outputs": []
    },
    {
      "cell_type": "code",
      "metadata": {
        "colab": {
          "base_uri": "https://localhost:8080/"
        },
        "id": "6ldyARjgtGDd",
        "outputId": "c0f9ab32-e1ab-49c4-ddf1-2b0f3d4cdb9a"
      },
      "source": [
        "decoder = Decoder(VOCAB_TAR_SIZE, EMBEDING_DIM, UNITS, BATCH_SIZE)\n",
        "\n",
        "sample_decoder_output, _, _ = decoder(tf.random.uniform((BATCH_SIZE, 1)),\n",
        "                                      sample_hidden, sample_output)\n",
        "\n",
        "print('Decoder output shape: (batch_size, vocab size)', sample_decoder_output.shape)"
      ],
      "execution_count": 32,
      "outputs": [
        {
          "output_type": "stream",
          "text": [
            "Decoder output shape: (batch_size, vocab size) (64, 12574)\n"
          ],
          "name": "stdout"
        }
      ]
    },
    {
      "cell_type": "code",
      "metadata": {
        "id": "0rLV-O2UtTcK"
      },
      "source": [
        "# Define optimizer and loss function\n",
        "optimizer = tf.keras.optimizers.Adam()\n",
        "loss_object = tf.keras.losses.SparseCategoricalCrossentropy(from_logits=True,\n",
        "                                                            reduction = 'none')\n",
        "\n",
        "def loss_function(real, pred):\n",
        "  mask = tf.math.logical_not(tf.math.equal(real, 0))\n",
        "  loss_ = loss_object(real, pred)\n",
        "  mask = tf.cast(mask, dtype=loss_.dtype)\n",
        "  loss_ *= mask\n",
        "  return tf.reduce_mean(loss_)"
      ],
      "execution_count": 33,
      "outputs": []
    },
    {
      "cell_type": "code",
      "metadata": {
        "id": "niALeRbTuiV1"
      },
      "source": [
        "# Checkpoint\n",
        "checkpoint_dir = './sample_data'\n",
        "checkpoint_prefix = os.path.join(checkpoint_dir, 'ckpt')\n",
        "checkpoint = tf.train.Checkpoint(optimizer=optimizer,\n",
        "                                 encoder = encoder,\n",
        "                                 decoder = decoder)"
      ],
      "execution_count": 34,
      "outputs": []
    },
    {
      "cell_type": "code",
      "metadata": {
        "id": "vLZ7RqNwvRzl"
      },
      "source": [
        "# pass input thru encode which returns with encoder output and hidden state\n",
        "# pass encoder output, hidden state and decoder input to decoder function\n",
        "# prediction output of decoder return decoder output and hidden state\n",
        "# Decoder output is passed back to model and hidden state is used to calculate the loss of the model"
      ],
      "execution_count": null,
      "outputs": []
    },
    {
      "cell_type": "code",
      "metadata": {
        "id": "4p44FBm1v7OW"
      },
      "source": [
        "@tf.function\n",
        "def train_step(inp, targ, enc_hidden):\n",
        "  loss = 0\n",
        "\n",
        "  with tf.GradientTape() as tape:\n",
        "    enc_output, enc_hidden = encoder(inp, enc_hidden)\n",
        "\n",
        "    dec_hidden = enc_hidden\n",
        "\n",
        "    dec_input = tf.expand_dims([targ_lang_tokenizer.word_index['<statr>']] * BATCH_SIZE, 1)\n",
        "\n",
        "    # Teacher forcing - feeding the target as the next input\n",
        "    for t in range(1, targ.shape[1]):\n",
        "      # passing enc_output to the decoder\n",
        "      predictions, dec_hidden, _ = decoder(dec_input, dec_hidden, enc_output)\n",
        "\n",
        "      loss += loss_function(targ[:, t], predictions)\n",
        "\n",
        "      # using teacher forcing\n",
        "      dec_input = tf.expand_dims(targ[:, t], 1)\n",
        "\n",
        "  batch_loss = (loss / int(targ.shape[1]))\n",
        "\n",
        "  variables = encoder.trainable_variables + decoder.trainable_variables\n",
        "\n",
        "  gradients = tape.gradient(loss, variables)\n",
        "\n",
        "  optimizer.apply_gradients(zip(gradients, variables))\n",
        "\n",
        "  return batch_loss"
      ],
      "execution_count": 35,
      "outputs": []
    },
    {
      "cell_type": "code",
      "metadata": {
        "colab": {
          "base_uri": "https://localhost:8080/"
        },
        "id": "vgD3f5E4wNS_",
        "outputId": "fc231fd4-d50e-4bb2-9b74-37f56ef552d4"
      },
      "source": [
        "EPOCHS = 50\n",
        "\n",
        "for epoch in range(EPOCHS):\n",
        "  start = time.time()\n",
        "\n",
        "  enc_hidden = encoder.initialize_hidden_state()\n",
        "  total_loss = 0\n",
        "\n",
        "  for (batch, (inp, targ)) in enumerate(dataset.take(EPOCH_SIZE)):\n",
        "    batch_loss = train_step(inp, targ, enc_hidden)\n",
        "    total_loss += batch_loss\n",
        "\n",
        "    if batch % 100 == 0:\n",
        "      print(f'Epoch {epoch+1} Batch {batch} Loss {batch_loss.numpy():.4f}')\n",
        "  # saving (checkpoint) the model every 2 epochs\n",
        "  if (epoch + 1) % 2 == 0:\n",
        "    checkpoint.save(file_prefix=checkpoint_prefix)"
      ],
      "execution_count": 36,
      "outputs": [
        {
          "output_type": "stream",
          "text": [
            "Epoch 1 Batch 0 Loss 1.5308\n",
            "Epoch 1 Batch 100 Loss 0.8139\n",
            "Epoch 1 Batch 200 Loss 0.8197\n",
            "Epoch 1 Batch 300 Loss 0.9013\n",
            "Epoch 1 Batch 400 Loss 0.8243\n",
            "Epoch 1 Batch 500 Loss 0.7928\n",
            "Epoch 2 Batch 0 Loss 0.7156\n",
            "Epoch 2 Batch 100 Loss 0.6660\n",
            "Epoch 2 Batch 200 Loss 0.6732\n",
            "Epoch 2 Batch 300 Loss 0.6640\n",
            "Epoch 2 Batch 400 Loss 0.6743\n",
            "Epoch 2 Batch 500 Loss 0.6240\n",
            "Epoch 3 Batch 0 Loss 0.5358\n",
            "Epoch 3 Batch 100 Loss 0.5238\n",
            "Epoch 3 Batch 200 Loss 0.5318\n",
            "Epoch 3 Batch 300 Loss 0.5148\n",
            "Epoch 3 Batch 400 Loss 0.5251\n",
            "Epoch 3 Batch 500 Loss 0.4426\n",
            "Epoch 4 Batch 0 Loss 0.4122\n",
            "Epoch 4 Batch 100 Loss 0.4983\n",
            "Epoch 4 Batch 200 Loss 0.3835\n",
            "Epoch 4 Batch 300 Loss 0.3527\n",
            "Epoch 4 Batch 400 Loss 0.2945\n",
            "Epoch 4 Batch 500 Loss 0.3331\n",
            "Epoch 5 Batch 0 Loss 0.2773\n",
            "Epoch 5 Batch 100 Loss 0.3257\n",
            "Epoch 5 Batch 200 Loss 0.2525\n",
            "Epoch 5 Batch 300 Loss 0.2311\n",
            "Epoch 5 Batch 400 Loss 0.2512\n",
            "Epoch 5 Batch 500 Loss 0.2315\n",
            "Epoch 6 Batch 0 Loss 0.1342\n",
            "Epoch 6 Batch 100 Loss 0.1454\n",
            "Epoch 6 Batch 200 Loss 0.1341\n",
            "Epoch 6 Batch 300 Loss 0.1580\n",
            "Epoch 6 Batch 400 Loss 0.1376\n",
            "Epoch 6 Batch 500 Loss 0.1367\n",
            "Epoch 7 Batch 0 Loss 0.0972\n",
            "Epoch 7 Batch 100 Loss 0.0980\n",
            "Epoch 7 Batch 200 Loss 0.1179\n",
            "Epoch 7 Batch 300 Loss 0.0826\n",
            "Epoch 7 Batch 400 Loss 0.1396\n",
            "Epoch 7 Batch 500 Loss 0.1182\n",
            "Epoch 8 Batch 0 Loss 0.0653\n",
            "Epoch 8 Batch 100 Loss 0.0866\n",
            "Epoch 8 Batch 200 Loss 0.0640\n",
            "Epoch 8 Batch 300 Loss 0.0803\n",
            "Epoch 8 Batch 400 Loss 0.0932\n",
            "Epoch 8 Batch 500 Loss 0.0745\n",
            "Epoch 9 Batch 0 Loss 0.0577\n",
            "Epoch 9 Batch 100 Loss 0.0787\n",
            "Epoch 9 Batch 200 Loss 0.0660\n",
            "Epoch 9 Batch 300 Loss 0.0760\n",
            "Epoch 9 Batch 400 Loss 0.0811\n",
            "Epoch 9 Batch 500 Loss 0.0694\n",
            "Epoch 10 Batch 0 Loss 0.0489\n",
            "Epoch 10 Batch 100 Loss 0.0442\n",
            "Epoch 10 Batch 200 Loss 0.0491\n",
            "Epoch 10 Batch 300 Loss 0.0536\n",
            "Epoch 10 Batch 400 Loss 0.0720\n",
            "Epoch 10 Batch 500 Loss 0.0710\n",
            "Epoch 11 Batch 0 Loss 0.0518\n",
            "Epoch 11 Batch 100 Loss 0.0526\n",
            "Epoch 11 Batch 200 Loss 0.0565\n",
            "Epoch 11 Batch 300 Loss 0.0502\n",
            "Epoch 11 Batch 400 Loss 0.0484\n",
            "Epoch 11 Batch 500 Loss 0.0634\n",
            "Epoch 12 Batch 0 Loss 0.0403\n",
            "Epoch 12 Batch 100 Loss 0.0537\n",
            "Epoch 12 Batch 200 Loss 0.0580\n",
            "Epoch 12 Batch 300 Loss 0.0438\n",
            "Epoch 12 Batch 400 Loss 0.0694\n",
            "Epoch 12 Batch 500 Loss 0.0637\n",
            "Epoch 13 Batch 0 Loss 0.0467\n",
            "Epoch 13 Batch 100 Loss 0.0560\n",
            "Epoch 13 Batch 200 Loss 0.0422\n",
            "Epoch 13 Batch 300 Loss 0.0537\n",
            "Epoch 13 Batch 400 Loss 0.0567\n",
            "Epoch 13 Batch 500 Loss 0.0497\n",
            "Epoch 14 Batch 0 Loss 0.0277\n",
            "Epoch 14 Batch 100 Loss 0.0421\n",
            "Epoch 14 Batch 200 Loss 0.0518\n",
            "Epoch 14 Batch 300 Loss 0.0526\n",
            "Epoch 14 Batch 400 Loss 0.0525\n",
            "Epoch 14 Batch 500 Loss 0.0680\n",
            "Epoch 15 Batch 0 Loss 0.0442\n",
            "Epoch 15 Batch 100 Loss 0.0426\n",
            "Epoch 15 Batch 200 Loss 0.0428\n",
            "Epoch 15 Batch 300 Loss 0.0533\n",
            "Epoch 15 Batch 400 Loss 0.0404\n",
            "Epoch 15 Batch 500 Loss 0.0445\n",
            "Epoch 16 Batch 0 Loss 0.0436\n",
            "Epoch 16 Batch 100 Loss 0.0431\n",
            "Epoch 16 Batch 200 Loss 0.0507\n",
            "Epoch 16 Batch 300 Loss 0.0464\n",
            "Epoch 16 Batch 400 Loss 0.0519\n",
            "Epoch 16 Batch 500 Loss 0.0722\n",
            "Epoch 17 Batch 0 Loss 0.0279\n",
            "Epoch 17 Batch 100 Loss 0.0268\n",
            "Epoch 17 Batch 200 Loss 0.0439\n",
            "Epoch 17 Batch 300 Loss 0.0553\n",
            "Epoch 17 Batch 400 Loss 0.0510\n",
            "Epoch 17 Batch 500 Loss 0.0535\n",
            "Epoch 18 Batch 0 Loss 0.0375\n",
            "Epoch 18 Batch 100 Loss 0.0442\n",
            "Epoch 18 Batch 200 Loss 0.0353\n",
            "Epoch 18 Batch 300 Loss 0.0477\n",
            "Epoch 18 Batch 400 Loss 0.0583\n",
            "Epoch 18 Batch 500 Loss 0.0489\n",
            "Epoch 19 Batch 0 Loss 0.0545\n",
            "Epoch 19 Batch 100 Loss 0.0451\n",
            "Epoch 19 Batch 200 Loss 0.0487\n",
            "Epoch 19 Batch 300 Loss 0.0434\n",
            "Epoch 19 Batch 400 Loss 0.0469\n",
            "Epoch 19 Batch 500 Loss 0.0564\n",
            "Epoch 20 Batch 0 Loss 0.0295\n",
            "Epoch 20 Batch 100 Loss 0.0493\n",
            "Epoch 20 Batch 200 Loss 0.0438\n",
            "Epoch 20 Batch 300 Loss 0.0474\n",
            "Epoch 20 Batch 400 Loss 0.0475\n",
            "Epoch 20 Batch 500 Loss 0.0639\n",
            "Epoch 21 Batch 0 Loss 0.0279\n",
            "Epoch 21 Batch 100 Loss 0.0294\n",
            "Epoch 21 Batch 200 Loss 0.0407\n",
            "Epoch 21 Batch 300 Loss 0.0383\n",
            "Epoch 21 Batch 400 Loss 0.0468\n",
            "Epoch 21 Batch 500 Loss 0.0469\n",
            "Epoch 22 Batch 0 Loss 0.0258\n",
            "Epoch 22 Batch 100 Loss 0.0338\n",
            "Epoch 22 Batch 200 Loss 0.0298\n",
            "Epoch 22 Batch 300 Loss 0.0324\n",
            "Epoch 22 Batch 400 Loss 0.0430\n",
            "Epoch 22 Batch 500 Loss 0.0477\n",
            "Epoch 23 Batch 0 Loss 0.0344\n",
            "Epoch 23 Batch 100 Loss 0.0403\n",
            "Epoch 23 Batch 200 Loss 0.0501\n",
            "Epoch 23 Batch 300 Loss 0.0412\n",
            "Epoch 23 Batch 400 Loss 0.0390\n",
            "Epoch 23 Batch 500 Loss 0.0486\n",
            "Epoch 24 Batch 0 Loss 0.0315\n",
            "Epoch 24 Batch 100 Loss 0.0315\n",
            "Epoch 24 Batch 200 Loss 0.0398\n",
            "Epoch 24 Batch 300 Loss 0.0433\n",
            "Epoch 24 Batch 400 Loss 0.0396\n",
            "Epoch 24 Batch 500 Loss 0.0497\n",
            "Epoch 25 Batch 0 Loss 0.0273\n",
            "Epoch 25 Batch 100 Loss 0.0252\n",
            "Epoch 25 Batch 200 Loss 0.0312\n",
            "Epoch 25 Batch 300 Loss 0.0374\n",
            "Epoch 25 Batch 400 Loss 0.0396\n",
            "Epoch 25 Batch 500 Loss 0.0455\n",
            "Epoch 26 Batch 0 Loss 0.0308\n",
            "Epoch 26 Batch 100 Loss 0.0219\n",
            "Epoch 26 Batch 200 Loss 0.0414\n",
            "Epoch 26 Batch 300 Loss 0.0480\n",
            "Epoch 26 Batch 400 Loss 0.0461\n",
            "Epoch 26 Batch 500 Loss 0.0432\n",
            "Epoch 27 Batch 0 Loss 0.0299\n",
            "Epoch 27 Batch 100 Loss 0.0309\n",
            "Epoch 27 Batch 200 Loss 0.0362\n",
            "Epoch 27 Batch 300 Loss 0.0609\n",
            "Epoch 27 Batch 400 Loss 0.0398\n",
            "Epoch 27 Batch 500 Loss 0.0418\n",
            "Epoch 28 Batch 0 Loss 0.0275\n",
            "Epoch 28 Batch 100 Loss 0.0305\n",
            "Epoch 28 Batch 200 Loss 0.0333\n",
            "Epoch 28 Batch 300 Loss 0.0377\n",
            "Epoch 28 Batch 400 Loss 0.0430\n",
            "Epoch 28 Batch 500 Loss 0.0418\n",
            "Epoch 29 Batch 0 Loss 0.0355\n",
            "Epoch 29 Batch 100 Loss 0.0230\n",
            "Epoch 29 Batch 200 Loss 0.0397\n",
            "Epoch 29 Batch 300 Loss 0.0413\n",
            "Epoch 29 Batch 400 Loss 0.0579\n",
            "Epoch 29 Batch 500 Loss 0.0391\n",
            "Epoch 30 Batch 0 Loss 0.0195\n",
            "Epoch 30 Batch 100 Loss 0.0360\n",
            "Epoch 30 Batch 200 Loss 0.0393\n",
            "Epoch 30 Batch 300 Loss 0.0429\n",
            "Epoch 30 Batch 400 Loss 0.0398\n",
            "Epoch 30 Batch 500 Loss 0.0437\n",
            "Epoch 31 Batch 0 Loss 0.0234\n",
            "Epoch 31 Batch 100 Loss 0.0281\n",
            "Epoch 31 Batch 200 Loss 0.0350\n",
            "Epoch 31 Batch 300 Loss 0.0389\n",
            "Epoch 31 Batch 400 Loss 0.0344\n",
            "Epoch 31 Batch 500 Loss 0.0310\n",
            "Epoch 32 Batch 0 Loss 0.0246\n",
            "Epoch 32 Batch 100 Loss 0.0317\n",
            "Epoch 32 Batch 200 Loss 0.0305\n",
            "Epoch 32 Batch 300 Loss 0.0337\n",
            "Epoch 32 Batch 400 Loss 0.0398\n",
            "Epoch 32 Batch 500 Loss 0.0343\n",
            "Epoch 33 Batch 0 Loss 0.0246\n",
            "Epoch 33 Batch 100 Loss 0.0272\n",
            "Epoch 33 Batch 200 Loss 0.0416\n",
            "Epoch 33 Batch 300 Loss 0.0370\n",
            "Epoch 33 Batch 400 Loss 0.0370\n",
            "Epoch 33 Batch 500 Loss 0.0371\n",
            "Epoch 34 Batch 0 Loss 0.0301\n",
            "Epoch 34 Batch 100 Loss 0.0215\n",
            "Epoch 34 Batch 200 Loss 0.0368\n",
            "Epoch 34 Batch 300 Loss 0.0460\n",
            "Epoch 34 Batch 400 Loss 0.0349\n",
            "Epoch 34 Batch 500 Loss 0.0295\n",
            "Epoch 35 Batch 0 Loss 0.0303\n",
            "Epoch 35 Batch 100 Loss 0.0269\n",
            "Epoch 35 Batch 200 Loss 0.0330\n",
            "Epoch 35 Batch 300 Loss 0.0416\n",
            "Epoch 35 Batch 400 Loss 0.0342\n",
            "Epoch 35 Batch 500 Loss 0.0391\n",
            "Epoch 36 Batch 0 Loss 0.0251\n",
            "Epoch 36 Batch 100 Loss 0.0295\n",
            "Epoch 36 Batch 200 Loss 0.0395\n",
            "Epoch 36 Batch 300 Loss 0.0380\n",
            "Epoch 36 Batch 400 Loss 0.0433\n",
            "Epoch 36 Batch 500 Loss 0.0431\n",
            "Epoch 37 Batch 0 Loss 0.0316\n",
            "Epoch 37 Batch 100 Loss 0.0271\n",
            "Epoch 37 Batch 200 Loss 0.0239\n",
            "Epoch 37 Batch 300 Loss 0.0336\n",
            "Epoch 37 Batch 400 Loss 0.0290\n",
            "Epoch 37 Batch 500 Loss 0.0355\n",
            "Epoch 38 Batch 0 Loss 0.0222\n",
            "Epoch 38 Batch 100 Loss 0.0295\n",
            "Epoch 38 Batch 200 Loss 0.0223\n",
            "Epoch 38 Batch 300 Loss 0.0352\n",
            "Epoch 38 Batch 400 Loss 0.0446\n",
            "Epoch 38 Batch 500 Loss 0.0323\n",
            "Epoch 39 Batch 0 Loss 0.0328\n",
            "Epoch 39 Batch 100 Loss 0.0289\n",
            "Epoch 39 Batch 200 Loss 0.0391\n",
            "Epoch 39 Batch 300 Loss 0.0426\n",
            "Epoch 39 Batch 400 Loss 0.0400\n",
            "Epoch 39 Batch 500 Loss 0.0404\n",
            "Epoch 40 Batch 0 Loss 0.0288\n",
            "Epoch 40 Batch 100 Loss 0.0346\n",
            "Epoch 40 Batch 200 Loss 0.0253\n",
            "Epoch 40 Batch 300 Loss 0.0259\n",
            "Epoch 40 Batch 400 Loss 0.0577\n",
            "Epoch 40 Batch 500 Loss 0.0407\n",
            "Epoch 41 Batch 0 Loss 0.0247\n",
            "Epoch 41 Batch 100 Loss 0.0353\n",
            "Epoch 41 Batch 200 Loss 0.0279\n",
            "Epoch 41 Batch 300 Loss 0.0332\n",
            "Epoch 41 Batch 400 Loss 0.0406\n",
            "Epoch 41 Batch 500 Loss 0.0242\n",
            "Epoch 42 Batch 0 Loss 0.0192\n",
            "Epoch 42 Batch 100 Loss 0.0349\n",
            "Epoch 42 Batch 200 Loss 0.0254\n",
            "Epoch 42 Batch 300 Loss 0.0285\n",
            "Epoch 42 Batch 400 Loss 0.0344\n",
            "Epoch 42 Batch 500 Loss 0.0377\n",
            "Epoch 43 Batch 0 Loss 0.0248\n",
            "Epoch 43 Batch 100 Loss 0.0243\n",
            "Epoch 43 Batch 200 Loss 0.0247\n",
            "Epoch 43 Batch 300 Loss 0.0250\n",
            "Epoch 43 Batch 400 Loss 0.0341\n",
            "Epoch 43 Batch 500 Loss 0.0477\n",
            "Epoch 44 Batch 0 Loss 0.0164\n",
            "Epoch 44 Batch 100 Loss 0.0291\n",
            "Epoch 44 Batch 200 Loss 0.0182\n",
            "Epoch 44 Batch 300 Loss 0.0332\n",
            "Epoch 44 Batch 400 Loss 0.0291\n",
            "Epoch 44 Batch 500 Loss 0.0272\n",
            "Epoch 45 Batch 0 Loss 0.0218\n",
            "Epoch 45 Batch 100 Loss 0.0315\n",
            "Epoch 45 Batch 200 Loss 0.0283\n",
            "Epoch 45 Batch 300 Loss 0.0321\n",
            "Epoch 45 Batch 400 Loss 0.0295\n",
            "Epoch 45 Batch 500 Loss 0.0356\n",
            "Epoch 46 Batch 0 Loss 0.0195\n",
            "Epoch 46 Batch 100 Loss 0.0252\n",
            "Epoch 46 Batch 200 Loss 0.0173\n",
            "Epoch 46 Batch 300 Loss 0.0326\n",
            "Epoch 46 Batch 400 Loss 0.0324\n",
            "Epoch 46 Batch 500 Loss 0.0329\n",
            "Epoch 47 Batch 0 Loss 0.0223\n",
            "Epoch 47 Batch 100 Loss 0.0224\n",
            "Epoch 47 Batch 200 Loss 0.0203\n",
            "Epoch 47 Batch 300 Loss 0.0214\n",
            "Epoch 47 Batch 400 Loss 0.0462\n",
            "Epoch 47 Batch 500 Loss 0.0304\n",
            "Epoch 48 Batch 0 Loss 0.0177\n",
            "Epoch 48 Batch 100 Loss 0.0309\n",
            "Epoch 48 Batch 200 Loss 0.0307\n",
            "Epoch 48 Batch 300 Loss 0.0334\n",
            "Epoch 48 Batch 400 Loss 0.0291\n",
            "Epoch 48 Batch 500 Loss 0.0249\n",
            "Epoch 49 Batch 0 Loss 0.0216\n",
            "Epoch 49 Batch 100 Loss 0.0251\n",
            "Epoch 49 Batch 200 Loss 0.0307\n",
            "Epoch 49 Batch 300 Loss 0.0270\n",
            "Epoch 49 Batch 400 Loss 0.0318\n",
            "Epoch 49 Batch 500 Loss 0.0328\n",
            "Epoch 50 Batch 0 Loss 0.0212\n",
            "Epoch 50 Batch 100 Loss 0.0267\n",
            "Epoch 50 Batch 200 Loss 0.0261\n",
            "Epoch 50 Batch 300 Loss 0.0278\n",
            "Epoch 50 Batch 400 Loss 0.0258\n",
            "Epoch 50 Batch 500 Loss 0.0314\n"
          ],
          "name": "stdout"
        }
      ]
    },
    {
      "cell_type": "code",
      "metadata": {
        "id": "lswPKecv2nX6"
      },
      "source": [
        "def evaluate(sentence):\n",
        "  attention_plot = np.zeros((max_length_targ, max_length_inp))\n",
        "\n",
        "  sentence = preprocess_sentence(sentence)\n",
        "\n",
        "  inputs = [inp_lang_tokenizer.word_index[i] for i in sentence.split(' ')]\n",
        "  inputs = tf.keras.preprocessing.sequence.pad_sequences([inputs],\n",
        "                                                         maxlen=max_length_inp,\n",
        "                                                         padding='post')\n",
        "  inputs = tf.convert_to_tensor(inputs)\n",
        "\n",
        "  result = ''\n",
        "\n",
        "  hidden = [tf.zeros((1, UNITS))]\n",
        "  enc_out, enc_hidden = encoder(inputs, hidden)\n",
        "\n",
        "  dec_hidden = enc_hidden\n",
        "  dec_input = tf.expand_dims([targ_lang_tokenizer.word_index['<statr>']], 0)\n",
        "\n",
        "  for t in range(max_length_targ):\n",
        "    predictions, dec_hidden, attention_weights = decoder(dec_input,\n",
        "                                                         dec_hidden,\n",
        "                                                         enc_out)\n",
        "\n",
        "    # storing the attention weights to plot later on\n",
        "    attention_weights = tf.reshape(attention_weights, (-1, ))\n",
        "    attention_plot[t] = attention_weights.numpy()\n",
        "\n",
        "    predicted_id = tf.argmax(predictions[0]).numpy()\n",
        "\n",
        "    result += targ_lang_tokenizer.index_word[predicted_id] + ' '\n",
        "\n",
        "    if targ_lang_tokenizer.index_word[predicted_id] == '<end>':\n",
        "      return result, sentence, attention_plot\n",
        "\n",
        "    # the predicted ID is fed back into the model\n",
        "    dec_input = tf.expand_dims([predicted_id], 0)\n",
        "\n",
        "  return result, sentence, attention_plot"
      ],
      "execution_count": 37,
      "outputs": []
    },
    {
      "cell_type": "code",
      "metadata": {
        "id": "LmxXqR2V20xf"
      },
      "source": [
        "def translate(sentence):\n",
        "  result, sentence, attention_plot = evaluate(sentence)\n",
        "\n",
        "  print('Input:', sentence)\n",
        "  print('Predicted translation:', result)\n",
        "\n",
        "  # attention_plot = attention_plot[:len(result.split(' ')),\n",
        "  #                                 :len(sentence.split(' '))]\n",
        "  # plot_attention(attention_plot, sentence.split(' '), result.split(' '))"
      ],
      "execution_count": 38,
      "outputs": []
    },
    {
      "cell_type": "code",
      "metadata": {
        "colab": {
          "base_uri": "https://localhost:8080/"
        },
        "id": "vhg4Y-fb3JRH",
        "outputId": "d6bcf989-9602-41ad-8f54-f475da5ac19e"
      },
      "source": [
        "translate(\"what is your name\")"
      ],
      "execution_count": 40,
      "outputs": [
        {
          "output_type": "stream",
          "text": [
            "Input: <statr> what is your name <end>\n",
            "Predicted translation: तमच नाव काय आह <end> \n"
          ],
          "name": "stdout"
        }
      ]
    },
    {
      "cell_type": "code",
      "metadata": {
        "colab": {
          "base_uri": "https://localhost:8080/",
          "height": 405
        },
        "id": "Kr6A8lghxtFS",
        "outputId": "698f2ea3-e959-4470-d0b9-38c6b51d9f8b"
      },
      "source": [
        "import nltk.translate.bleu_score as bleu\n",
        "reference = \"what is your name\"\n",
        "result =  translate(reference)\n",
        "print(bleu.sentence_bleu(reference, result))\n",
        "# print('BLEU score: {}'.format( bleu.sentence_bleu(reference, result)) )"
      ],
      "execution_count": 48,
      "outputs": [
        {
          "output_type": "stream",
          "text": [
            "Input: <statr> what is your name <end>\n",
            "Predicted translation: तमच नाव काय आह <end> \n"
          ],
          "name": "stdout"
        },
        {
          "output_type": "error",
          "ename": "TypeError",
          "evalue": "ignored",
          "traceback": [
            "\u001b[0;31m---------------------------------------------------------------------------\u001b[0m",
            "\u001b[0;31mTypeError\u001b[0m                                 Traceback (most recent call last)",
            "\u001b[0;32m<ipython-input-48-4b0f8c64a96c>\u001b[0m in \u001b[0;36m<module>\u001b[0;34m()\u001b[0m\n\u001b[1;32m      2\u001b[0m \u001b[0mreference\u001b[0m \u001b[0;34m=\u001b[0m \u001b[0;34m\"what is your name\"\u001b[0m\u001b[0;34m\u001b[0m\u001b[0;34m\u001b[0m\u001b[0m\n\u001b[1;32m      3\u001b[0m \u001b[0mresult\u001b[0m \u001b[0;34m=\u001b[0m  \u001b[0mtranslate\u001b[0m\u001b[0;34m(\u001b[0m\u001b[0mreference\u001b[0m\u001b[0;34m)\u001b[0m\u001b[0;34m\u001b[0m\u001b[0;34m\u001b[0m\u001b[0m\n\u001b[0;32m----> 4\u001b[0;31m \u001b[0mprint\u001b[0m\u001b[0;34m(\u001b[0m\u001b[0mbleu\u001b[0m\u001b[0;34m.\u001b[0m\u001b[0msentence_bleu\u001b[0m\u001b[0;34m(\u001b[0m\u001b[0mreference\u001b[0m\u001b[0;34m,\u001b[0m \u001b[0mresult\u001b[0m\u001b[0;34m)\u001b[0m\u001b[0;34m)\u001b[0m\u001b[0;34m\u001b[0m\u001b[0;34m\u001b[0m\u001b[0m\n\u001b[0m\u001b[1;32m      5\u001b[0m \u001b[0;31m# print('BLEU score: {}'.format( bleu.sentence_bleu(reference, result)) )\u001b[0m\u001b[0;34m\u001b[0m\u001b[0;34m\u001b[0m\u001b[0;34m\u001b[0m\u001b[0m\n",
            "\u001b[0;32m/usr/local/lib/python3.7/dist-packages/nltk/translate/bleu_score.py\u001b[0m in \u001b[0;36msentence_bleu\u001b[0;34m(references, hypothesis, weights, smoothing_function, auto_reweigh, emulate_multibleu)\u001b[0m\n\u001b[1;32m     87\u001b[0m     return corpus_bleu([references], [hypothesis],\n\u001b[1;32m     88\u001b[0m                         \u001b[0mweights\u001b[0m\u001b[0;34m,\u001b[0m \u001b[0msmoothing_function\u001b[0m\u001b[0;34m,\u001b[0m \u001b[0mauto_reweigh\u001b[0m\u001b[0;34m,\u001b[0m\u001b[0;34m\u001b[0m\u001b[0;34m\u001b[0m\u001b[0m\n\u001b[0;32m---> 89\u001b[0;31m                         emulate_multibleu)\n\u001b[0m\u001b[1;32m     90\u001b[0m \u001b[0;34m\u001b[0m\u001b[0m\n\u001b[1;32m     91\u001b[0m \u001b[0;34m\u001b[0m\u001b[0m\n",
            "\u001b[0;32m/usr/local/lib/python3.7/dist-packages/nltk/translate/bleu_score.py\u001b[0m in \u001b[0;36mcorpus_bleu\u001b[0;34m(list_of_references, hypotheses, weights, smoothing_function, auto_reweigh, emulate_multibleu)\u001b[0m\n\u001b[1;32m    160\u001b[0m         \u001b[0;31m# denominator for the corpus-level modified precision.\u001b[0m\u001b[0;34m\u001b[0m\u001b[0;34m\u001b[0m\u001b[0;34m\u001b[0m\u001b[0m\n\u001b[1;32m    161\u001b[0m         \u001b[0;32mfor\u001b[0m \u001b[0mi\u001b[0m\u001b[0;34m,\u001b[0m \u001b[0m_\u001b[0m \u001b[0;32min\u001b[0m \u001b[0menumerate\u001b[0m\u001b[0;34m(\u001b[0m\u001b[0mweights\u001b[0m\u001b[0;34m,\u001b[0m \u001b[0mstart\u001b[0m\u001b[0;34m=\u001b[0m\u001b[0;36m1\u001b[0m\u001b[0;34m)\u001b[0m\u001b[0;34m:\u001b[0m\u001b[0;34m\u001b[0m\u001b[0;34m\u001b[0m\u001b[0m\n\u001b[0;32m--> 162\u001b[0;31m             \u001b[0mp_i\u001b[0m \u001b[0;34m=\u001b[0m \u001b[0mmodified_precision\u001b[0m\u001b[0;34m(\u001b[0m\u001b[0mreferences\u001b[0m\u001b[0;34m,\u001b[0m \u001b[0mhypothesis\u001b[0m\u001b[0;34m,\u001b[0m \u001b[0mi\u001b[0m\u001b[0;34m)\u001b[0m\u001b[0;34m\u001b[0m\u001b[0;34m\u001b[0m\u001b[0m\n\u001b[0m\u001b[1;32m    163\u001b[0m             \u001b[0mp_numerators\u001b[0m\u001b[0;34m[\u001b[0m\u001b[0mi\u001b[0m\u001b[0;34m]\u001b[0m \u001b[0;34m+=\u001b[0m \u001b[0mp_i\u001b[0m\u001b[0;34m.\u001b[0m\u001b[0mnumerator\u001b[0m\u001b[0;34m\u001b[0m\u001b[0;34m\u001b[0m\u001b[0m\n\u001b[1;32m    164\u001b[0m             \u001b[0mp_denominators\u001b[0m\u001b[0;34m[\u001b[0m\u001b[0mi\u001b[0m\u001b[0;34m]\u001b[0m \u001b[0;34m+=\u001b[0m \u001b[0mp_i\u001b[0m\u001b[0;34m.\u001b[0m\u001b[0mdenominator\u001b[0m\u001b[0;34m\u001b[0m\u001b[0;34m\u001b[0m\u001b[0m\n",
            "\u001b[0;32m/usr/local/lib/python3.7/dist-packages/nltk/translate/bleu_score.py\u001b[0m in \u001b[0;36mmodified_precision\u001b[0;34m(references, hypothesis, n)\u001b[0m\n\u001b[1;32m    290\u001b[0m     \u001b[0;31m# Extracts all ngrams in hypothesis\u001b[0m\u001b[0;34m\u001b[0m\u001b[0;34m\u001b[0m\u001b[0;34m\u001b[0m\u001b[0m\n\u001b[1;32m    291\u001b[0m     \u001b[0;31m# Set an empty Counter if hypothesis is empty.\u001b[0m\u001b[0;34m\u001b[0m\u001b[0;34m\u001b[0m\u001b[0;34m\u001b[0m\u001b[0m\n\u001b[0;32m--> 292\u001b[0;31m     \u001b[0mcounts\u001b[0m \u001b[0;34m=\u001b[0m \u001b[0mCounter\u001b[0m\u001b[0;34m(\u001b[0m\u001b[0mngrams\u001b[0m\u001b[0;34m(\u001b[0m\u001b[0mhypothesis\u001b[0m\u001b[0;34m,\u001b[0m \u001b[0mn\u001b[0m\u001b[0;34m)\u001b[0m\u001b[0;34m)\u001b[0m \u001b[0;32mif\u001b[0m \u001b[0mlen\u001b[0m\u001b[0;34m(\u001b[0m\u001b[0mhypothesis\u001b[0m\u001b[0;34m)\u001b[0m \u001b[0;34m>=\u001b[0m \u001b[0mn\u001b[0m \u001b[0;32melse\u001b[0m \u001b[0mCounter\u001b[0m\u001b[0;34m(\u001b[0m\u001b[0;34m)\u001b[0m\u001b[0;34m\u001b[0m\u001b[0;34m\u001b[0m\u001b[0m\n\u001b[0m\u001b[1;32m    293\u001b[0m     \u001b[0;31m# Extract a union of references' counts.\u001b[0m\u001b[0;34m\u001b[0m\u001b[0;34m\u001b[0m\u001b[0;34m\u001b[0m\u001b[0m\n\u001b[1;32m    294\u001b[0m     \u001b[0;31m## max_counts = reduce(or_, [Counter(ngrams(ref, n)) for ref in references])\u001b[0m\u001b[0;34m\u001b[0m\u001b[0;34m\u001b[0m\u001b[0;34m\u001b[0m\u001b[0m\n",
            "\u001b[0;31mTypeError\u001b[0m: object of type 'NoneType' has no len()"
          ]
        }
      ]
    },
    {
      "cell_type": "code",
      "metadata": {
        "colab": {
          "base_uri": "https://localhost:8080/"
        },
        "id": "ALVLtHRFqxAy",
        "outputId": "aa507fc2-139c-4196-e38b-8fe0625bf018"
      },
      "source": [
        "!zip -r /content/sample_data.zip /content/sample_data"
      ],
      "execution_count": 41,
      "outputs": [
        {
          "output_type": "stream",
          "text": [
            "  adding: content/sample_data/ (stored 0%)\n",
            "  adding: content/sample_data/README.md (deflated 42%)\n",
            "  adding: content/sample_data/anscombe.json (deflated 83%)\n",
            "  adding: content/sample_data/ckpt-10.index (deflated 69%)\n",
            "  adding: content/sample_data/ckpt-22.index (deflated 69%)\n",
            "  adding: content/sample_data/ckpt-1.data-00000-of-00001 (deflated 14%)\n",
            "  adding: content/sample_data/ckpt-14.data-00000-of-00001 (deflated 13%)\n",
            "  adding: content/sample_data/ckpt-3.data-00000-of-00001 (deflated 14%)\n",
            "  adding: content/sample_data/ckpt-5.index (deflated 69%)\n",
            "  adding: content/sample_data/ckpt-18.data-00000-of-00001 (deflated 13%)\n",
            "  adding: content/sample_data/ckpt-5.data-00000-of-00001 (deflated 14%)\n",
            "  adding: content/sample_data/ckpt-3.index (deflated 69%)\n",
            "  adding: content/sample_data/ckpt-17.data-00000-of-00001 (deflated 13%)\n",
            "  adding: content/sample_data/ckpt-7.index (deflated 69%)\n",
            "  adding: content/sample_data/ckpt-18.index (deflated 69%)\n",
            "  adding: content/sample_data/ckpt-11.data-00000-of-00001 (deflated 13%)\n",
            "  adding: content/sample_data/ckpt-4.index (deflated 69%)\n",
            "  adding: content/sample_data/ckpt-17.index (deflated 69%)\n",
            "  adding: content/sample_data/ckpt-21.data-00000-of-00001 (deflated 13%)\n",
            "  adding: content/sample_data/ckpt-22.data-00000-of-00001 (deflated 13%)\n",
            "  adding: content/sample_data/ckpt-15.data-00000-of-00001 (deflated 13%)\n",
            "  adding: content/sample_data/ckpt-9.data-00000-of-00001 (deflated 13%)\n",
            "  adding: content/sample_data/ckpt-25.index (deflated 69%)\n",
            "  adding: content/sample_data/ckpt-16.data-00000-of-00001 (deflated 13%)\n",
            "  adding: content/sample_data/ckpt-15.index (deflated 69%)\n",
            "  adding: content/sample_data/ckpt-6.data-00000-of-00001 (deflated 14%)\n",
            "  adding: content/sample_data/ckpt-12.index (deflated 69%)\n",
            "  adding: content/sample_data/ckpt-25.data-00000-of-00001 (deflated 13%)\n",
            "  adding: content/sample_data/ckpt-2.data-00000-of-00001 (deflated 14%)\n",
            "  adding: content/sample_data/ckpt-20.data-00000-of-00001 (deflated 13%)\n",
            "  adding: content/sample_data/mar.txt (deflated 82%)\n",
            "  adding: content/sample_data/ckpt-4.data-00000-of-00001 (deflated 14%)\n",
            "  adding: content/sample_data/ckpt-14.index (deflated 69%)\n",
            "  adding: content/sample_data/ckpt-11.index (deflated 69%)\n",
            "  adding: content/sample_data/ckpt-12.data-00000-of-00001 (deflated 13%)\n",
            "  adding: content/sample_data/ckpt-24.index (deflated 69%)\n",
            "  adding: content/sample_data/ckpt-21.index (deflated 69%)\n",
            "  adding: content/sample_data/ckpt-9.index (deflated 69%)\n",
            "  adding: content/sample_data/ckpt-23.index (deflated 69%)\n",
            "  adding: content/sample_data/ckpt-19.index (deflated 69%)\n",
            "  adding: content/sample_data/ckpt-10.data-00000-of-00001 (deflated 13%)\n",
            "  adding: content/sample_data/ckpt-8.data-00000-of-00001 (deflated 13%)\n",
            "  adding: content/sample_data/checkpoint (deflated 38%)\n",
            "  adding: content/sample_data/ckpt-16.index (deflated 69%)\n",
            "  adding: content/sample_data/ckpt-7.data-00000-of-00001 (deflated 13%)\n",
            "  adding: content/sample_data/ckpt-2.index (deflated 69%)\n",
            "  adding: content/sample_data/ckpt-13.index (deflated 69%)\n",
            "  adding: content/sample_data/ckpt-23.data-00000-of-00001 (deflated 13%)\n",
            "  adding: content/sample_data/ckpt-20.index (deflated 69%)\n",
            "  adding: content/sample_data/ckpt-6.index (deflated 69%)\n",
            "  adding: content/sample_data/ckpt-8.index (deflated 69%)\n",
            "  adding: content/sample_data/ckpt-13.data-00000-of-00001 (deflated 13%)\n",
            "  adding: content/sample_data/ckpt-1.index (deflated 69%)\n",
            "  adding: content/sample_data/ckpt-19.data-00000-of-00001 (deflated 13%)\n",
            "  adding: content/sample_data/ckpt-24.data-00000-of-00001 (deflated 13%)\n",
            "  adding: content/sample_data/california_housing_train.csv (deflated 79%)\n",
            "  adding: content/sample_data/mnist_train_small.csv (deflated 88%)\n",
            "  adding: content/sample_data/mnist_test.csv (deflated 88%)\n",
            "  adding: content/sample_data/california_housing_test.csv (deflated 76%)\n"
          ],
          "name": "stdout"
        }
      ]
    }
  ]
}