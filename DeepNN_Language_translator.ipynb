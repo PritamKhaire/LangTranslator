{
  "nbformat": 4,
  "nbformat_minor": 0,
  "metadata": {
    "colab": {
      "name": "DeepNN_Language_translator.ipynb",
      "provenance": [],
      "collapsed_sections": [],
      "mount_file_id": "1j40Xog_rzeBkqCgTBpFOUEHMuL8lc02w",
      "authorship_tag": "ABX9TyN5JtcMPYVwMKmo+ozYgyuX",
      "include_colab_link": true
    },
    "kernelspec": {
      "name": "python3",
      "display_name": "Python 3"
    },
    "language_info": {
      "name": "python"
    },
    "accelerator": "GPU"
  },
  "cells": [
    {
      "cell_type": "markdown",
      "metadata": {
        "id": "view-in-github",
        "colab_type": "text"
      },
      "source": [
        "<a href=\"https://colab.research.google.com/github/PritamKhaire/LangTranslator/blob/main/DeepNN_Language_translator.ipynb\" target=\"_parent\"><img src=\"https://colab.research.google.com/assets/colab-badge.svg\" alt=\"Open In Colab\"/></a>"
      ]
    },
    {
      "cell_type": "code",
      "metadata": {
        "colab": {
          "base_uri": "https://localhost:8080/"
        },
        "id": "FhtC1n28Fp3H",
        "outputId": "4895e49a-d118-475f-f712-cd9794e07b97"
      },
      "source": [
        "# memory footprint support libraries/code\n",
        "!ln -sf /opt/bin/nvidia-smi /usr/bin/nvidia-smi\n",
        "!pip install gputil\n",
        "!pip install psutil\n",
        "!pip install humanize\n",
        "\n",
        "import psutil\n",
        "import humanize\n",
        "import os\n",
        "import GPUtil as GPU\n",
        "\n",
        "GPUs = GPU.getGPUs()\n",
        "# XXX: only one GPU on Colab and isn’t guaranteed\n",
        "gpu = GPUs[0]\n",
        "def printm():\n",
        "    process = psutil.Process(os.getpid())\n",
        "    print(\"Gen RAM Free: \" + humanize.naturalsize(psutil.virtual_memory().available), \" |     Proc size: \" + humanize.naturalsize(process.memory_info().rss))\n",
        "    print(\"GPU RAM Free: {0:.0f}MB | Used: {1:.0f}MB | Util {2:3.0f}% | Total     {3:.0f}MB\".format(gpu.memoryFree, gpu.memoryUsed, gpu.memoryUtil*100, gpu.memoryTotal))\n",
        "printm()"
      ],
      "execution_count": 1,
      "outputs": [
        {
          "output_type": "stream",
          "text": [
            "Collecting gputil\n",
            "  Downloading https://files.pythonhosted.org/packages/ed/0e/5c61eedde9f6c87713e89d794f01e378cfd9565847d4576fa627d758c554/GPUtil-1.4.0.tar.gz\n",
            "Building wheels for collected packages: gputil\n",
            "  Building wheel for gputil (setup.py) ... \u001b[?25l\u001b[?25hdone\n",
            "  Created wheel for gputil: filename=GPUtil-1.4.0-cp37-none-any.whl size=7411 sha256=188544a8029e7ac29b384007580ad7e3ce2e761923cd762747348173ab8d831d\n",
            "  Stored in directory: /root/.cache/pip/wheels/3d/77/07/80562de4bb0786e5ea186911a2c831fdd0018bda69beab71fd\n",
            "Successfully built gputil\n",
            "Installing collected packages: gputil\n",
            "Successfully installed gputil-1.4.0\n",
            "Requirement already satisfied: psutil in /usr/local/lib/python3.7/dist-packages (5.4.8)\n",
            "Requirement already satisfied: humanize in /usr/local/lib/python3.7/dist-packages (0.5.1)\n",
            "Gen RAM Free: 12.7 GB  |     Proc size: 118.1 MB\n",
            "GPU RAM Free: 7611MB | Used: 0MB | Util   0% | Total     7611MB\n"
          ],
          "name": "stdout"
        }
      ]
    },
    {
      "cell_type": "code",
      "metadata": {
        "colab": {
          "base_uri": "https://localhost:8080/"
        },
        "id": "auMuxhOzb8aE",
        "outputId": "8486908e-684a-4720-dd82-b18ef3b4eb57"
      },
      "source": [
        "%tensorflow_version 2.x\n",
        "import tensorflow as tf\n",
        "device_name = tf.test.gpu_device_name()\n",
        "print(device_name)\n",
        "# if device_name != '/device:GPU:0':                                                    \n",
        "#   raise SystemError('GPU device not found')\n",
        "print('Found GPU at: {}'.format(device_name))"
      ],
      "execution_count": 2,
      "outputs": [
        {
          "output_type": "stream",
          "text": [
            "/device:GPU:0\n",
            "Found GPU at: /device:GPU:0\n"
          ],
          "name": "stdout"
        }
      ]
    },
    {
      "cell_type": "code",
      "metadata": {
        "id": "HYSvIjmbcSXr"
      },
      "source": [
        "import pandas as pd\n",
        "import numpy as np\n",
        "import os\n",
        "import re\n",
        "import string\n",
        "import unicodedata\n",
        "from sklearn.model_selection import train_test_split"
      ],
      "execution_count": 57,
      "outputs": []
    },
    {
      "cell_type": "code",
      "metadata": {
        "id": "mSZNnex7exQA"
      },
      "source": [
        "FILE_PATH = \"./drive/MyDrive/Drive_data/mar.txt\""
      ],
      "execution_count": 4,
      "outputs": []
    },
    {
      "cell_type": "code",
      "metadata": {
        "id": "ijVodzfzcZbV"
      },
      "source": [
        "lines = pd.read_table(FILE_PATH, encoding='utf-8', names = ['eng', 'mar'])"
      ],
      "execution_count": 5,
      "outputs": []
    },
    {
      "cell_type": "code",
      "metadata": {
        "colab": {
          "base_uri": "https://localhost:8080/",
          "height": 194
        },
        "id": "HEDpmiMxhGyy",
        "outputId": "acd243c7-214d-4e46-d3ba-1decd8ff1b09"
      },
      "source": [
        "lines.head()"
      ],
      "execution_count": 6,
      "outputs": [
        {
          "output_type": "execute_result",
          "data": {
            "text/html": [
              "<div>\n",
              "<style scoped>\n",
              "    .dataframe tbody tr th:only-of-type {\n",
              "        vertical-align: middle;\n",
              "    }\n",
              "\n",
              "    .dataframe tbody tr th {\n",
              "        vertical-align: top;\n",
              "    }\n",
              "\n",
              "    .dataframe thead th {\n",
              "        text-align: right;\n",
              "    }\n",
              "</style>\n",
              "<table border=\"1\" class=\"dataframe\">\n",
              "  <thead>\n",
              "    <tr style=\"text-align: right;\">\n",
              "      <th></th>\n",
              "      <th>eng</th>\n",
              "      <th>mar</th>\n",
              "    </tr>\n",
              "  </thead>\n",
              "  <tbody>\n",
              "    <tr>\n",
              "      <th>Go.</th>\n",
              "      <td>जा.</td>\n",
              "      <td>CC-BY 2.0 (France) Attribution: tatoeba.org #2...</td>\n",
              "    </tr>\n",
              "    <tr>\n",
              "      <th>Run!</th>\n",
              "      <td>पळ!</td>\n",
              "      <td>CC-BY 2.0 (France) Attribution: tatoeba.org #9...</td>\n",
              "    </tr>\n",
              "    <tr>\n",
              "      <th>Run!</th>\n",
              "      <td>धाव!</td>\n",
              "      <td>CC-BY 2.0 (France) Attribution: tatoeba.org #9...</td>\n",
              "    </tr>\n",
              "    <tr>\n",
              "      <th>Run!</th>\n",
              "      <td>पळा!</td>\n",
              "      <td>CC-BY 2.0 (France) Attribution: tatoeba.org #9...</td>\n",
              "    </tr>\n",
              "    <tr>\n",
              "      <th>Run!</th>\n",
              "      <td>धावा!</td>\n",
              "      <td>CC-BY 2.0 (France) Attribution: tatoeba.org #9...</td>\n",
              "    </tr>\n",
              "  </tbody>\n",
              "</table>\n",
              "</div>"
            ],
            "text/plain": [
              "        eng                                                mar\n",
              "Go.     जा.  CC-BY 2.0 (France) Attribution: tatoeba.org #2...\n",
              "Run!    पळ!  CC-BY 2.0 (France) Attribution: tatoeba.org #9...\n",
              "Run!   धाव!  CC-BY 2.0 (France) Attribution: tatoeba.org #9...\n",
              "Run!   पळा!  CC-BY 2.0 (France) Attribution: tatoeba.org #9...\n",
              "Run!  धावा!  CC-BY 2.0 (France) Attribution: tatoeba.org #9..."
            ]
          },
          "metadata": {
            "tags": []
          },
          "execution_count": 6
        }
      ]
    },
    {
      "cell_type": "code",
      "metadata": {
        "id": "IRCTdemWdDiJ"
      },
      "source": [
        "lines[\"english\"] = lines.index\n",
        "lines[\"marathi\"] = lines.eng\n",
        "\n",
        "lines.drop([\"eng\", \"mar\"], axis = 1, inplace = True)\n",
        "lines = lines.reset_index(drop = True)"
      ],
      "execution_count": 7,
      "outputs": []
    },
    {
      "cell_type": "code",
      "metadata": {
        "colab": {
          "base_uri": "https://localhost:8080/",
          "height": 194
        },
        "id": "J-tzzkfYdn8l",
        "outputId": "3a579c1b-f208-44cc-abca-8a34c744e604"
      },
      "source": [
        "lines.head()"
      ],
      "execution_count": 8,
      "outputs": [
        {
          "output_type": "execute_result",
          "data": {
            "text/html": [
              "<div>\n",
              "<style scoped>\n",
              "    .dataframe tbody tr th:only-of-type {\n",
              "        vertical-align: middle;\n",
              "    }\n",
              "\n",
              "    .dataframe tbody tr th {\n",
              "        vertical-align: top;\n",
              "    }\n",
              "\n",
              "    .dataframe thead th {\n",
              "        text-align: right;\n",
              "    }\n",
              "</style>\n",
              "<table border=\"1\" class=\"dataframe\">\n",
              "  <thead>\n",
              "    <tr style=\"text-align: right;\">\n",
              "      <th></th>\n",
              "      <th>english</th>\n",
              "      <th>marathi</th>\n",
              "    </tr>\n",
              "  </thead>\n",
              "  <tbody>\n",
              "    <tr>\n",
              "      <th>0</th>\n",
              "      <td>Go.</td>\n",
              "      <td>जा.</td>\n",
              "    </tr>\n",
              "    <tr>\n",
              "      <th>1</th>\n",
              "      <td>Run!</td>\n",
              "      <td>पळ!</td>\n",
              "    </tr>\n",
              "    <tr>\n",
              "      <th>2</th>\n",
              "      <td>Run!</td>\n",
              "      <td>धाव!</td>\n",
              "    </tr>\n",
              "    <tr>\n",
              "      <th>3</th>\n",
              "      <td>Run!</td>\n",
              "      <td>पळा!</td>\n",
              "    </tr>\n",
              "    <tr>\n",
              "      <th>4</th>\n",
              "      <td>Run!</td>\n",
              "      <td>धावा!</td>\n",
              "    </tr>\n",
              "  </tbody>\n",
              "</table>\n",
              "</div>"
            ],
            "text/plain": [
              "  english marathi\n",
              "0     Go.     जा.\n",
              "1    Run!     पळ!\n",
              "2    Run!    धाव!\n",
              "3    Run!    पळा!\n",
              "4    Run!   धावा!"
            ]
          },
          "metadata": {
            "tags": []
          },
          "execution_count": 8
        }
      ]
    },
    {
      "cell_type": "code",
      "metadata": {
        "id": "6bk6l8Nqhl_k"
      },
      "source": [
        "def unicode_to_ascii(sentence):\n",
        "  return \"\".join(c for c in unicodedata.normalize('NFD', sentence) if unicodedata.category(c) != 'Mn')"
      ],
      "execution_count": 9,
      "outputs": []
    },
    {
      "cell_type": "code",
      "metadata": {
        "id": "tl_e7cA9hUV7"
      },
      "source": [
        "def preprocessing(sentence, language = False):\n",
        "  sentence = unicode_to_ascii(sentence.lower().strip())\n",
        "\n",
        "  sentence = re.sub(r\"([?.!,])\", r\" \\1 \", sentence)\n",
        "  sentence = re.sub(r'[\" \"]+ ', \" \", sentence )\n",
        "  sentence = re.sub(r\"'\", r'', sentence)\n",
        "  \n",
        "  exclude = set(string.punctuation)\n",
        "  remove_digits = str.maketrans('', '', string.digits)\n",
        "  sentence = \"\".join(ch for ch in sentence if ch not in exclude)\n",
        "  sentence = sentence.translate(remove_digits)\n",
        "\n",
        "  sentence = re.sub(r\"[२३०८१५७९४६]\", \"\", sentence)\n",
        "  sentence = re.sub(r\" +\", r\" \", sentence)\n",
        "  sentence = sentence.strip()\n",
        "  if language:\n",
        "    sentence = '<START>' + sentence + \"<END>\"\n",
        "  return sentence"
      ],
      "execution_count": 10,
      "outputs": []
    },
    {
      "cell_type": "code",
      "metadata": {
        "id": "_6rMSyVikY4V"
      },
      "source": [
        "def create_dataset(file_name):\n",
        "  file_name.english = file_name.english.apply(lambda x : preprocessing(x, False))\n",
        "  file_name.marathi = file_name.marathi.apply(lambda x : preprocessing(x, True))\n",
        "  return file_name.english, file_name.marathi"
      ],
      "execution_count": 11,
      "outputs": []
    },
    {
      "cell_type": "code",
      "metadata": {
        "id": "S6DqZ00AqEuw"
      },
      "source": [
        "def tokenize(lang):\n",
        "  lang_tokenizer = tf.keras.preprocessing.text.Tokenizer(filters='')\n",
        "  lang_tokenizer.fit_on_texts(lang)\n",
        "\n",
        "  tensor = lang_tokenizer.texts_to_sequences(lang)\n",
        "  tensor = tf.keras.preprocessing.sequence.pad_sequences(tensor, padding=\"post\")\n",
        "  return tensor, lang_tokenizer"
      ],
      "execution_count": 12,
      "outputs": []
    },
    {
      "cell_type": "code",
      "metadata": {
        "id": "vMgO1exnqL27"
      },
      "source": [
        "def load_dataset(lines):\n",
        "  target_lang, input_lang = create_dataset(lines)\n",
        "  input_tensor, inp_lang_tokenizer = tokenize(input_lang)\n",
        "  target_tensor, targ_lang_tokenizer = tokenize(target_lang)\n",
        "\n",
        "  return input_tensor, target_tensor, inp_lang_tokenizer, targ_lang_tokenizer"
      ],
      "execution_count": 13,
      "outputs": []
    },
    {
      "cell_type": "code",
      "metadata": {
        "id": "ZWUgcmIYmhwp"
      },
      "source": [
        "input_tensor, target_tensor, inp_lang_tokenizer, targ_lang_tokenizer = load_dataset(lines)"
      ],
      "execution_count": 14,
      "outputs": []
    },
    {
      "cell_type": "code",
      "metadata": {
        "id": "mRLDYSZKnPyk"
      },
      "source": [
        "# MAX_LENGTH_INPUT = input_tensor.shape[1]\n",
        "# MAX_LENGTH_TARGET = target_tensor.shape[1]"
      ],
      "execution_count": 15,
      "outputs": []
    },
    {
      "cell_type": "code",
      "metadata": {
        "id": "Tvvbnxcxr5-h"
      },
      "source": [
        "# INPUT_VOCAB_SIZE = len(inp_lang_tokenizer.word_index) + 1\n",
        "# TARGET_VOCAB_SIZE = len(targ_lang_tokenizer.word_index) + 1"
      ],
      "execution_count": 16,
      "outputs": []
    },
    {
      "cell_type": "code",
      "metadata": {
        "id": "BaoMVHpBviqE"
      },
      "source": [
        "# INPUT_VOCAB_SIZE, TARGET_VOCAB_SIZE"
      ],
      "execution_count": 19,
      "outputs": []
    },
    {
      "cell_type": "code",
      "metadata": {
        "id": "I011oNUwv_7r"
      },
      "source": [
        "input_tensor_train, input_tensor_test, target_tensor_train, target_tensor_test = train_test_split(input_tensor, target_tensor, test_size = 0.2)"
      ],
      "execution_count": 18,
      "outputs": []
    },
    {
      "cell_type": "code",
      "metadata": {
        "id": "JhjSIsPyUb6v"
      },
      "source": [
        "def convert(lang, tensor):\n",
        "  for t in tensor:\n",
        "    if t != 0:\n",
        "      print(f'{t} ------> {lang.index_word[t]}')"
      ],
      "execution_count": 66,
      "outputs": []
    },
    {
      "cell_type": "code",
      "metadata": {
        "colab": {
          "base_uri": "https://localhost:8080/"
        },
        "id": "TiLy7IGzUX-z",
        "outputId": "12f772d5-204f-4442-9e9f-49ceaa459e24"
      },
      "source": [
        "print(\"Input language: Index to word mapping...\")\n",
        "convert(inp_lang_tokenizer, input_tensor_train[0])\n",
        "print(\"Target Language; index to word mapping\")\n",
        "convert(targ_lang_tokenizer, target_tensor_train[0])"
      ],
      "execution_count": 67,
      "outputs": [
        {
          "output_type": "stream",
          "text": [
            "Input language: Index to word mapping...\n",
            "6 ------> <start>मला\n",
            "4199 ------> मतयची\n",
            "883 ------> भीती\n",
            "13 ------> नाहीय<end>\n",
            "Target Language; index to word mapping\n",
            "1 ------> i\n",
            "19 ------> dont\n",
            "2023 ------> fear\n",
            "998 ------> death\n"
          ],
          "name": "stdout"
        }
      ]
    },
    {
      "cell_type": "code",
      "metadata": {
        "id": "4WIgOWgo631q"
      },
      "source": [
        "MAX_LENGTH_INPUT = input_tensor_train.shape[1]\n",
        "MAX_LENGTH_TARGET = target_tensor_train.shape[1]\n",
        "\n",
        "INPUT_VOCAB_SIZE = len(inp_lang_tokenizer.word_index) + 1\n",
        "TARGET_VOCAB_SIZE = len(targ_lang_tokenizer.word_index) + 1"
      ],
      "execution_count": 20,
      "outputs": []
    },
    {
      "cell_type": "code",
      "metadata": {
        "colab": {
          "base_uri": "https://localhost:8080/"
        },
        "id": "eRI5ycAtTlQM",
        "outputId": "dd265e50-24b3-4ad8-b2fb-e1a6d4663a0d"
      },
      "source": [
        "print(\"MAX_LENGTH_INPUT....\", MAX_LENGTH_INPUT)\n",
        "print('MAX_LENGTH_TARGET...', MAX_LENGTH_TARGET)\n",
        "print(\"INPUT_VOCAB_SIZE....\", INPUT_VOCAB_SIZE)\n",
        "print(\"TARGET_VOCAB_SIZE....\", TARGET_VOCAB_SIZE)"
      ],
      "execution_count": 59,
      "outputs": [
        {
          "output_type": "stream",
          "text": [
            "MAX_LENGTH_INPUT.... 35\n",
            "MAX_LENGTH_TARGET... 34\n",
            "INPUT_VOCAB_SIZE.... 15910\n",
            "TARGET_VOCAB_SIZE.... 5695\n"
          ],
          "name": "stdout"
        }
      ]
    },
    {
      "cell_type": "code",
      "metadata": {
        "id": "EnWINUzXwQWX"
      },
      "source": [
        "from tensorflow.python.keras.layers import Layer\n",
        "from tensorflow.python.keras import backend as K\n",
        "\n",
        "class AttentionLayer(Layer):\n",
        "    \"\"\"\n",
        "    This class implements Bahdanau attention (https://arxiv.org/pdf/1409.0473.pdf).\n",
        "    There are three sets of weights introduced W_a, U_a, and V_a\n",
        "     \"\"\"\n",
        "\n",
        "    def __init__(self, **kwargs):\n",
        "        super(AttentionLayer, self).__init__(**kwargs)\n",
        "\n",
        "    def build(self, input_shape):\n",
        "        assert isinstance(input_shape, list)\n",
        "        # Create a trainable weight variable for this layer.\n",
        "\n",
        "        self.W_a = self.add_weight(name='W_a',\n",
        "                                   shape=tf.TensorShape((input_shape[0][2], input_shape[0][2])),\n",
        "                                   initializer='uniform',\n",
        "                                   trainable=True)\n",
        "        self.U_a = self.add_weight(name='U_a',\n",
        "                                   shape=tf.TensorShape((input_shape[1][2], input_shape[0][2])),\n",
        "                                   initializer='uniform',\n",
        "                                   trainable=True)\n",
        "        self.V_a = self.add_weight(name='V_a',\n",
        "                                   shape=tf.TensorShape((input_shape[0][2], 1)),\n",
        "                                   initializer='uniform',\n",
        "                                   trainable=True)\n",
        "\n",
        "        super(AttentionLayer, self).build(input_shape)  # Be sure to call this at the end\n",
        "\n",
        "    def call(self, inputs, verbose=False):\n",
        "        \"\"\"\n",
        "        inputs: [encoder_output_sequence, decoder_output_sequence]\n",
        "        \"\"\"\n",
        "        assert type(inputs) == list\n",
        "        encoder_out_seq, decoder_out_seq = inputs\n",
        "        if verbose:\n",
        "            print('encoder_out_seq>', encoder_out_seq.shape)\n",
        "            print('decoder_out_seq>', decoder_out_seq.shape)\n",
        "\n",
        "        def energy_step(inputs, states):\n",
        "            \"\"\" Step function for computing energy for a single decoder state\n",
        "            inputs: (batchsize * 1 * de_in_dim)\n",
        "            states: (batchsize * 1 * de_latent_dim)\n",
        "            \"\"\"\n",
        "\n",
        "            assert_msg = \"States must be an iterable. Got {} of type {}\".format(states, type(states))\n",
        "            assert isinstance(states, list) or isinstance(states, tuple), assert_msg\n",
        "\n",
        "            \"\"\" Some parameters required for shaping tensors\"\"\"\n",
        "            en_seq_len, en_hidden = encoder_out_seq.shape[1], encoder_out_seq.shape[2]\n",
        "            de_hidden = inputs.shape[-1]\n",
        "\n",
        "            \"\"\" Computing S.Wa where S=[s0, s1, ..., si]\"\"\"\n",
        "            # <= batch size * en_seq_len * latent_dim\n",
        "            W_a_dot_s = K.dot(encoder_out_seq, self.W_a)\n",
        "\n",
        "            \"\"\" Computing hj.Ua \"\"\"\n",
        "            U_a_dot_h = K.expand_dims(K.dot(inputs, self.U_a), 1)  # <= batch_size, 1, latent_dim\n",
        "            if verbose:\n",
        "                print('Ua.h>', U_a_dot_h.shape)\n",
        "\n",
        "            \"\"\" tanh(S.Wa + hj.Ua) \"\"\"\n",
        "            # <= batch_size*en_seq_len, latent_dim\n",
        "            Ws_plus_Uh = K.tanh(W_a_dot_s + U_a_dot_h)\n",
        "            if verbose:\n",
        "                print('Ws+Uh>', Ws_plus_Uh.shape)\n",
        "\n",
        "            \"\"\" softmax(va.tanh(S.Wa + hj.Ua)) \"\"\"\n",
        "            # <= batch_size, en_seq_len\n",
        "            e_i = K.squeeze(K.dot(Ws_plus_Uh, self.V_a), axis=-1)\n",
        "            # <= batch_size, en_seq_len\n",
        "            e_i = K.softmax(e_i)\n",
        "\n",
        "            if verbose:\n",
        "                print('ei>', e_i.shape)\n",
        "\n",
        "            return e_i, [e_i]\n",
        "\n",
        "        def context_step(inputs, states):\n",
        "            \"\"\" Step function for computing ci using ei \"\"\"\n",
        "\n",
        "            assert_msg = \"States must be an iterable. Got {} of type {}\".format(states, type(states))\n",
        "            assert isinstance(states, list) or isinstance(states, tuple), assert_msg\n",
        "\n",
        "            # <= batch_size, hidden_size\n",
        "            c_i = K.sum(encoder_out_seq * K.expand_dims(inputs, -1), axis=1)\n",
        "            if verbose:\n",
        "                print('ci>', c_i.shape)\n",
        "            return c_i, [c_i]\n",
        "\n",
        "        fake_state_c = K.sum(encoder_out_seq, axis=1)\n",
        "        fake_state_e = K.sum(encoder_out_seq, axis=2)  # <= (batch_size, enc_seq_len, latent_dim\n",
        "\n",
        "        \"\"\" Computing energy outputs \"\"\"\n",
        "        # e_outputs => (batch_size, de_seq_len, en_seq_len)\n",
        "        last_out, e_outputs, _ = K.rnn(\n",
        "            energy_step, decoder_out_seq, [fake_state_e],\n",
        "        )\n",
        "\n",
        "        \"\"\" Computing context vectors \"\"\"\n",
        "        last_out, c_outputs, _ = K.rnn(\n",
        "            context_step, e_outputs, [fake_state_c],\n",
        "        )\n",
        "\n",
        "        return c_outputs, e_outputs\n",
        "\n",
        "    def compute_output_shape(self, input_shape):\n",
        "        \"\"\" Outputs produced by the layer \"\"\"\n",
        "        return [\n",
        "            tf.TensorShape((input_shape[1][0], input_shape[1][1], input_shape[1][2])),\n",
        "            tf.TensorShape((input_shape[1][0], input_shape[1][1], input_shape[0][1]))\n",
        "        ]"
      ],
      "execution_count": 21,
      "outputs": []
    },
    {
      "cell_type": "code",
      "metadata": {
        "id": "vdBoTG9OxKfa"
      },
      "source": [
        "from tensorflow.keras.layers import Input, Embedding, LSTM, Dense, TimeDistributed, Concatenate\n",
        "from tensorflow.keras.models import Model, model_from_json\n",
        "from tensorflow.keras.utils import plot_model\n",
        "from tensorflow.keras.callbacks import EarlyStopping"
      ],
      "execution_count": 22,
      "outputs": []
    },
    {
      "cell_type": "code",
      "metadata": {
        "id": "2D6nscS7xmsh"
      },
      "source": [
        "LATENT_DIM = 256"
      ],
      "execution_count": 23,
      "outputs": []
    },
    {
      "cell_type": "code",
      "metadata": {
        "id": "bvqu1rnTxDfK"
      },
      "source": [
        "encoder_input = Input(shape=(MAX_LENGTH_INPUT, ))\n",
        "encoder_embedding = Embedding(INPUT_VOCAB_SIZE, LATENT_DIM, trainable = True)(encoder_input)"
      ],
      "execution_count": 24,
      "outputs": []
    },
    {
      "cell_type": "code",
      "metadata": {
        "id": "88z_sW0txu13"
      },
      "source": [
        "encoder_lstm_1 = LSTM(LATENT_DIM, \n",
        "                      return_sequences=True, \n",
        "                      return_state=True)\n",
        "encoder_output_1, encoder_h_1, encoder_c_1 = encoder_lstm_1(encoder_embedding)"
      ],
      "execution_count": 25,
      "outputs": []
    },
    {
      "cell_type": "code",
      "metadata": {
        "id": "gpQwVlARyS3n"
      },
      "source": [
        "encoder_lstm_2 = LSTM(LATENT_DIM, \n",
        "                      return_state = True,\n",
        "                      return_sequences = True)\n",
        "encoder_output2, encoder_h_2, encoder_c_2 = encoder_lstm_2(encoder_output_1)"
      ],
      "execution_count": 26,
      "outputs": []
    },
    {
      "cell_type": "code",
      "metadata": {
        "id": "JFtatxOoynkO"
      },
      "source": [
        "encoder_lstm_3 = LSTM(LATENT_DIM,\n",
        "                       return_state = True,\n",
        "                       return_sequences = True)\n",
        "encoder_output, encoder_h, encoder_c = encoder_lstm_3(encoder_output2)"
      ],
      "execution_count": 27,
      "outputs": []
    },
    {
      "cell_type": "code",
      "metadata": {
        "id": "wbsQByVnzT29"
      },
      "source": [
        "# Set up decoder\n",
        "decoder_input = Input(shape=(None,))\n",
        "decoder_embedding = Embedding(TARGET_VOCAB_SIZE, LATENT_DIM, trainable = True)(decoder_input)"
      ],
      "execution_count": 28,
      "outputs": []
    },
    {
      "cell_type": "code",
      "metadata": {
        "id": "eP9S_01hy7Xo"
      },
      "source": [
        "decoder_lstm = LSTM(LATENT_DIM,\n",
        "                    return_sequences = True,\n",
        "                    return_state = True)\n",
        "decoder_output, decoder_forward_state, decoder_backword_state = decoder_lstm(decoder_embedding, initial_state = [encoder_h, encoder_c])"
      ],
      "execution_count": 29,
      "outputs": []
    },
    {
      "cell_type": "code",
      "metadata": {
        "id": "VmGyyP0Z0h3M"
      },
      "source": [
        "attention_layer = AttentionLayer()\n",
        "attention_output, attention_state = attention_layer([encoder_output, decoder_output])"
      ],
      "execution_count": 30,
      "outputs": []
    },
    {
      "cell_type": "code",
      "metadata": {
        "id": "ntLNpu-B2EyL"
      },
      "source": [
        "decoder_concat_input = Concatenate(axis=-1, name='concat_layer')([decoder_output, attention_output])\n",
        "decoder_dense = TimeDistributed(Dense(TARGET_VOCAB_SIZE, activation = 'softmax'))\n",
        "decoder_output = decoder_dense(decoder_concat_input)"
      ],
      "execution_count": 31,
      "outputs": []
    },
    {
      "cell_type": "code",
      "metadata": {
        "id": "kg_fCJ9H2jvo"
      },
      "source": [
        "# Define model\n",
        "model = Model([encoder_input, decoder_input], decoder_output)"
      ],
      "execution_count": 32,
      "outputs": []
    },
    {
      "cell_type": "code",
      "metadata": {
        "colab": {
          "base_uri": "https://localhost:8080/",
          "height": 976
        },
        "id": "_93Y2PQ32xJ_",
        "outputId": "5a3e140b-e194-4277-aa19-915f31d115b6"
      },
      "source": [
        "plot_model(model, show_shapes = True, to_file = \"training_model.png\")"
      ],
      "execution_count": 33,
      "outputs": [
        {
          "output_type": "execute_result",
          "data": {
            "image/png": "[encoded data removed]",
            "text/plain": [
              "<IPython.core.display.Image object>"
            ]
          },
          "metadata": {
            "tags": []
          },
          "execution_count": 33
        }
      ]
    },
    {
      "cell_type": "code",
      "metadata": {
        "id": "WND5g8Fn4S2X"
      },
      "source": [
        "optimizer = tf.keras.optimizers.Adam()\n",
        "# loss_object = tf.keras.losses.SparseCategoricalCrossentropy(from_logits=True,\n",
        "#                                                             reduction = 'none')\n",
        "\n",
        "# def loss_function(real, pred):\n",
        "#   mask = tf.math.logical_not(tf.math.equal(real, 0))\n",
        "#   loss_ = loss_object(real, pred)\n",
        "#   mask = tf.cast(mask, dtype=loss_.dtype)\n",
        "#   loss_ *= mask\n",
        "#   return tf.reduce_mean(loss_)"
      ],
      "execution_count": 34,
      "outputs": []
    },
    {
      "cell_type": "code",
      "metadata": {
        "id": "kXlk0SNE43wy"
      },
      "source": [
        "es = EarlyStopping(monitor='val_loss', mode='min', verbose=1)"
      ],
      "execution_count": 35,
      "outputs": []
    },
    {
      "cell_type": "code",
      "metadata": {
        "id": "5s0_BlZXAMbF"
      },
      "source": [
        "model.compile(optimizer=optimizer, loss=\"SparseCategoricalCrossentropy\", metrics = [\"accuracy\"])"
      ],
      "execution_count": 36,
      "outputs": []
    },
    {
      "cell_type": "code",
      "metadata": {
        "id": "4YNQr6ch46o1"
      },
      "source": [
        "history = model.fit([input_tensor_train, target_tensor_train[:, :-1]], target_tensor_train.reshape(target_tensor_train.shape[0], target_tensor_train.shape[1], 1)[:, 1:],\n",
        "                    epochs = 50,\n",
        "                    callbacks = [es],\n",
        "                    batch_size = 512,\n",
        "                    validation_data = ([input_tensor_test, target_tensor_test[:, :-1]], target_tensor_test.reshape(target_tensor_test.shape[0], target_tensor_test.shape[1], 1)[:, 1:]))"
      ],
      "execution_count": null,
      "outputs": []
    },
    {
      "cell_type": "code",
      "metadata": {
        "id": "4ZR7D5V8B-Hz",
        "colab": {
          "base_uri": "https://localhost:8080/",
          "height": 265
        },
        "outputId": "249ed84a-5fd5-4286-e24e-4e53a5afa5c7"
      },
      "source": [
        "from matplotlib import pyplot \n",
        "pyplot.plot(history.history['loss'], label='train') \n",
        "pyplot.plot(history.history['val_loss'], label='test') \n",
        "pyplot.legend() \n",
        "pyplot.show()"
      ],
      "execution_count": 38,
      "outputs": [
        {
          "output_type": "display_data",
          "data": {
            "image/png": "[encoded data removed]",
            "text/plain": [
              "<Figure size 432x288 with 1 Axes>"
            ]
          },
          "metadata": {
            "tags": [],
            "needs_background": "light"
          }
        }
      ]
    },
    {
      "cell_type": "code",
      "metadata": {
        "id": "3jB3KEYiLnbl"
      },
      "source": [
        ""
      ],
      "execution_count": null,
      "outputs": []
    },
    {
      "cell_type": "code",
      "metadata": {
        "id": "uVX1fPMAJW4z",
        "colab": {
          "base_uri": "https://localhost:8080/"
        },
        "outputId": "27e76335-8189-49ca-a3c6-b81e0563bb72"
      },
      "source": [
        "model_json = model.to_json()\n",
        "with open(\"NMT_model.json\", \"w\") as json_file:\n",
        "    json_file.write(model_json)\n",
        "# serialize weights to HDF5\n",
        "model.save_weights(\"NMT_model_weight.h5\")\n",
        "print(\"Saved model to disk\")"
      ],
      "execution_count": 39,
      "outputs": [
        {
          "output_type": "stream",
          "text": [
            "Saved model to disk\n"
          ],
          "name": "stdout"
        }
      ]
    },
    {
      "cell_type": "code",
      "metadata": {
        "id": "8jE2PBXZJYqO"
      },
      "source": [
        "# loading the model architecture and asigning the weights\n",
        "json_file = open('NMT_model.json', 'r')\n",
        "loaded_model_json = json_file.read()\n",
        "json_file.close()\n",
        "model_loaded = model_from_json(loaded_model_json, custom_objects={'AttentionLayer': AttentionLayer})\n",
        "# load weights into new model\n",
        "model_loaded.load_weights(\"NMT_model_weight.h5\")"
      ],
      "execution_count": 40,
      "outputs": []
    },
    {
      "cell_type": "code",
      "metadata": {
        "colab": {
          "base_uri": "https://localhost:8080/"
        },
        "id": "0nETqc7UVNd-",
        "outputId": "82f6785e-4d41-43f3-e334-59f81aca411f"
      },
      "source": [
        "print(model_loaded.input[0])\n",
        "print( model_loaded.layers[6].output)"
      ],
      "execution_count": 72,
      "outputs": [
        {
          "output_type": "stream",
          "text": [
            "KerasTensor(type_spec=TensorSpec(shape=(None, 35), dtype=tf.float32, name='input_1'), name='input_1', description=\"created by layer 'input_1'\")\n",
            "[<KerasTensor: shape=(None, 35, 256) dtype=float32 (created by layer 'lstm_2')>, <KerasTensor: shape=(None, 256) dtype=float32 (created by layer 'lstm_2')>, <KerasTensor: shape=(None, 256) dtype=float32 (created by layer 'lstm_2')>]\n"
          ],
          "name": "stdout"
        }
      ]
    },
    {
      "cell_type": "code",
      "metadata": {
        "id": "3wLr6BmWJbDJ"
      },
      "source": [
        "#inference\n",
        "\n",
        "latent_dim=256\n",
        "# encoder inference\n",
        "encoder_inputs = model_loaded.input[0]  #loading encoder_inputs\n",
        "encoder_outputs, state_h, state_c = model_loaded.layers[6].output #loading encoder_outputs\n",
        "#print(encoder_outputs.shape)\n",
        "encoder_model = Model(inputs=encoder_inputs,outputs=[encoder_outputs, state_h, state_c])\n",
        "# decoder inference\n",
        "# Below tensors will hold the states of the previous time step\n",
        "decoder_state_input_h = Input(shape=(latent_dim,))\n",
        "decoder_state_input_c = Input(shape=(latent_dim,))\n",
        "decoder_hidden_state_input = Input(shape=(MAX_LENGTH_INPUT,latent_dim))\n",
        "# Get the embeddings of the decoder sequence\n",
        "decoder_inputs = model_loaded.layers[3].output\n",
        "#print(decoder_inputs.shape)\n",
        "dec_emb_layer = model_loaded.layers[5]\n",
        "dec_emb2= dec_emb_layer(decoder_inputs)\n",
        "# To predict the next word in the sequence, set the initial states to the states from the previous time step\n",
        "decoder_lstm = model_loaded.layers[7]\n",
        "decoder_outputs2, state_h2, state_c2 = decoder_lstm(dec_emb2, initial_state=[decoder_state_input_h, decoder_state_input_c])\n",
        "#attention inference\n",
        "attn_layer = model_loaded.layers[8]\n",
        "attn_out_inf, attn_states_inf = attn_layer([decoder_hidden_state_input, decoder_outputs2])\n",
        "concate = model_loaded.layers[9]\n",
        "decoder_inf_concat = concate([decoder_outputs2, attn_out_inf])\n",
        "# A dense softmax layer to generate prob dist. over the target vocabulary\n",
        "decoder_dense = model_loaded.layers[10]\n",
        "decoder_outputs2 = decoder_dense(decoder_inf_concat)\n",
        "# Final decoder model\n",
        "decoder_model = Model(\n",
        "[decoder_inputs] + [decoder_hidden_state_input,decoder_state_input_h, decoder_state_input_c],\n",
        "[decoder_outputs2] + [state_h2, state_c2])"
      ],
      "execution_count": 83,
      "outputs": []
    },
    {
      "cell_type": "code",
      "metadata": {
        "id": "xL2eZT1sJe2n"
      },
      "source": [
        "def decode_sequence(input_seq):\n",
        "    print(\"Input seqeunce...\", input_seq)\n",
        "    # Encode the input as state vectors.\n",
        "    e_out, e_h, e_c = encoder_model.predict(input_seq)\n",
        "\n",
        "    # Generate empty target sequence of length 1.\n",
        "    target_seq = np.zeros((1,1))\n",
        "\n",
        "    # Chose the 'start' word as the first word of the target sequence\n",
        "    target_seq[0, 0] = Mword2index['start']\n",
        "    stop_condition = False\n",
        "    decoded_sentence = ''\n",
        "    while not stop_condition:\n",
        "        output_tokens, h, c = decoder_model.predict([target_seq] + [e_out, e_h, e_c])\n",
        "        # Sample a token\n",
        "        print(\"output_token..\", output_tokens)\n",
        "        sampled_token_index = np.argmax(output_tokens[0, -1, :])\n",
        "\t\t\n",
        "        if sampled_token_index == 0:\n",
        "          break\n",
        "        else:\n",
        "          sampled_token = Mindex2word[sampled_token_index]\n",
        "        decoded_sentence += ' '+ sampled_token\n",
        "        \n",
        "        if (sampled_token == '<end>' or\n",
        "              len(decoded_sentence) > len(decoded_sentence.split()) >= (26-1)):\n",
        "                stop_condition = True\n",
        "          \n",
        "                # Update the target sequence (of length 1).\n",
        "        target_seq = np.zeros((1,1))\n",
        "        target_seq[0, 0] = sampled_token_index\n",
        "        # Update internal states\n",
        "        e_h, e_c = h, c\n",
        "    print(\"Decoded sequenced...\", decoded_sentence)\n",
        "    return decoded_sentence"
      ],
      "execution_count": 105,
      "outputs": []
    },
    {
      "cell_type": "code",
      "metadata": {
        "id": "R4-zSOjCJmPZ"
      },
      "source": [
        "Eindex2word = inp_lang_tokenizer.index_word\n",
        "Mindex2word = targ_lang_tokenizer.index_word\n",
        "Mword2index = targ_lang_tokenizer.word_index"
      ],
      "execution_count": 106,
      "outputs": []
    },
    {
      "cell_type": "code",
      "metadata": {
        "id": "Vo-M0GUIJnhb"
      },
      "source": [
        "def seq2summary(input_seq):\n",
        "    newString=''\n",
        "    for i in input_seq:\n",
        "      if((i!=0 and i!=Mword2index['start']) and i!=Mword2index['end']):\n",
        "        newString=newString+Mindex2word[i]+' '\n",
        "    return newString\n",
        "def seq2text(input_seq):\n",
        "    newString=''\n",
        "    for i in input_seq:\n",
        "      if(i!=0):\n",
        "        newString=newString + Eindex2word[i]+' '\n",
        "    return newString"
      ],
      "execution_count": 107,
      "outputs": []
    },
    {
      "cell_type": "code",
      "metadata": {
        "id": "tHqJC7xWJpCT",
        "colab": {
          "base_uri": "https://localhost:8080/"
        },
        "outputId": "d804fdb5-4d76-4a52-ac14-652412efd23a"
      },
      "source": [
        "for i in range(10):  \n",
        "  print(\"Review:\",seq2text(input_tensor_test[i]))\n",
        "  print(\"Original summary:\",seq2summary(target_tensor_test[i]))\n",
        "  print(\"Predicted summary:\",decode_sequence(input_tensor_test[i].reshape(1,MAX_LENGTH_INPUT)))\n",
        "  print(\"\\n\")"
      ],
      "execution_count": 108,
      "outputs": [
        {
          "output_type": "stream",
          "text": [
            "Review: <start>मी बल बघायला गल<end> \n",
            "Original summary: i went to see the ballet \n",
            "Input seqeunce... [[   2 3595  399  166    0    0    0    0    0    0    0    0    0    0\n",
            "     0    0    0    0    0    0    0    0    0    0    0    0    0    0\n",
            "     0    0    0    0    0    0    0]]\n",
            "output_token.. [[[6.0118609e-06 2.6599264e-05 9.1053062e-06 ... 9.0692328e-07\n",
            "   1.7344939e-09 2.6568305e-09]]]\n",
            "output_token.. [[[7.9266538e-05 3.0536994e-05 6.1204380e-05 ... 4.4919886e-08\n",
            "   2.5551952e-08 2.7246381e-08]]]\n",
            "output_token.. [[[1.99307715e-06 3.12453693e-07 1.01506316e-07 ... 7.25860216e-09\n",
            "   4.01593951e-07 3.02445983e-07]]]\n",
            "output_token.. [[[9.9851722e-01 1.0906317e-05 1.1753267e-05 ... 2.0820666e-10\n",
            "   8.5662029e-09 1.2471997e-09]]]\n",
            "Decoded sequenced...  in the room\n",
            "Predicted summary:  in the room\n",
            "\n",
            "\n",
            "Review: <start>तया मरताहत<end> \n",
            "Original summary: theyre dying \n",
            "Input seqeunce... [[  28 6141    0    0    0    0    0    0    0    0    0    0    0    0\n",
            "     0    0    0    0    0    0    0    0    0    0    0    0    0    0\n",
            "     0    0    0    0    0    0    0]]\n",
            "output_token.. [[[1.2353926e-01 8.0337829e-04 7.9417275e-04 ... 6.3732983e-08\n",
            "   1.3798335e-08 4.4353512e-09]]]\n",
            "output_token.. [[[9.9284583e-01 1.3464490e-05 1.5328868e-04 ... 1.6231230e-10\n",
            "   3.5307941e-09 4.4119378e-10]]]\n",
            "Decoded sequenced...  up\n",
            "Predicted summary:  up\n",
            "\n",
            "\n",
            "Review: <start>मला तमचा फोन नबर दया<end> \n",
            "Original summary: give me your phone number \n",
            "Input seqeunce... [[  6 276  57 593 128   0   0   0   0   0   0   0   0   0   0   0   0   0\n",
            "    0   0   0   0   0   0   0   0   0   0   0   0   0   0   0   0   0]]\n",
            "output_token.. [[[8.8051738e-06 1.6273542e-04 8.3831190e-05 ... 1.8133354e-06\n",
            "   2.8969676e-09 1.6895286e-09]]]\n",
            "output_token.. [[[2.4711742e-06 2.4486288e-05 2.4366480e-07 ... 3.6939602e-07\n",
            "   1.1097983e-06 1.0025675e-06]]]\n",
            "output_token.. [[[7.8409190e-05 4.3468532e-05 8.7069276e-07 ... 4.1825069e-06\n",
            "   9.8774399e-06 4.8452412e-06]]]\n",
            "output_token.. [[[9.9084270e-01 5.5830099e-04 6.2000443e-04 ... 1.8569112e-09\n",
            "   1.0196707e-07 1.2740518e-08]]]\n",
            "Decoded sequenced...  your favorite number\n",
            "Predicted summary:  your favorite number\n",
            "\n",
            "\n",
            "Review: <start>तो सववातीनला यईल<end> \n",
            "Original summary: hell come at quarter past three \n",
            "Input seqeunce... [[  17 7926  448    0    0    0    0    0    0    0    0    0    0    0\n",
            "     0    0    0    0    0    0    0    0    0    0    0    0    0    0\n",
            "     0    0    0    0    0    0    0]]\n",
            "output_token.. [[[5.3225865e-04 1.6351895e-04 1.0049949e-04 ... 5.2752227e-07\n",
            "   9.9865947e-09 8.4627185e-09]]]\n",
            "output_token.. [[[2.3540508e-07 2.4761957e-07 9.4566985e-09 ... 3.1865842e-08\n",
            "   8.2119709e-07 5.4904484e-07]]]\n",
            "output_token.. [[[9.8414385e-01 1.4827900e-05 4.9815148e-06 ... 1.1313556e-09\n",
            "   3.4629437e-08 3.8294297e-09]]]\n",
            "Decoded sequenced...  the engine\n",
            "Predicted summary:  the engine\n",
            "\n",
            "\n",
            "Review: <start>दोन वाजता चालल का<end> \n",
            "Original summary: would two oclock be all right \n",
            "Input seqeunce... [[977 143 608   3   0   0   0   0   0   0   0   0   0   0   0   0   0   0\n",
            "    0   0   0   0   0   0   0   0   0   0   0   0   0   0   0   0   0]]\n",
            "output_token.. [[[4.2491768e-02 1.8865643e-03 8.5020903e-03 ... 1.7015759e-07\n",
            "   1.4002757e-08 5.1879474e-09]]]\n",
            "output_token.. [[[1.7882809e-05 1.5605734e-06 4.3631585e-06 ... 3.0304986e-07\n",
            "   9.4510732e-08 9.3313481e-08]]]\n",
            "output_token.. [[[9.9160284e-01 1.9997171e-05 4.4859531e-05 ... 2.3062301e-09\n",
            "   4.2375795e-08 1.8554644e-08]]]\n",
            "Decoded sequenced...  not ten\n",
            "Predicted summary:  not ten\n",
            "\n",
            "\n",
            "Review: <start>माझयाकड दोन पसतक आहत<end> \n",
            "Original summary: i have two books \n",
            "Input seqeunce... [[113 149  30  10   0   0   0   0   0   0   0   0   0   0   0   0   0   0\n",
            "    0   0   0   0   0   0   0   0   0   0   0   0   0   0   0   0   0]]\n",
            "output_token.. [[[1.05132662e-04 2.16831671e-04 1.26804880e-04 ... 4.00924273e-06\n",
            "   1.38559413e-08 1.13122764e-08]]]\n",
            "output_token.. [[[2.0619848e-07 1.7913051e-06 1.0355929e-07 ... 5.0427349e-07\n",
            "   2.0135517e-06 1.1082813e-06]]]\n",
            "output_token.. [[[8.8864446e-01 1.9459033e-03 2.6621384e-04 ... 1.7249447e-07\n",
            "   4.7753008e-07 1.5249626e-07]]]\n",
            "Decoded sequenced...  the book\n",
            "Predicted summary:  the book\n",
            "\n",
            "\n",
            "Review: <start>मी तझयासाठी सटशनचया इथ थाबन<end> \n",
            "Original summary: ill wait for you at the station \n",
            "Input seqeunce... [[   2  483 3724   40 2252    0    0    0    0    0    0    0    0    0\n",
            "     0    0    0    0    0    0    0    0    0    0    0    0    0    0\n",
            "     0    0    0    0    0    0    0]]\n",
            "output_token.. [[[8.9100674e-03 7.1782516e-03 8.7422825e-02 ... 1.3750830e-06\n",
            "   1.3474939e-08 3.8635304e-09]]]\n",
            "output_token.. [[[5.1941550e-03 1.5688207e-03 3.2595007e-03 ... 1.2032903e-05\n",
            "   1.5470080e-06 7.5833879e-07]]]\n",
            "output_token.. [[[3.8432139e-03 1.8757303e-03 8.9375310e-02 ... 6.7637143e-07\n",
            "   1.7825444e-07 9.7856820e-08]]]\n",
            "output_token.. [[[8.9283574e-01 4.8944587e-04 2.7102060e-03 ... 1.4634251e-07\n",
            "   6.7583670e-07 1.2520883e-07]]]\n",
            "Decoded sequenced...  me at me\n",
            "Predicted summary:  me at me\n",
            "\n",
            "\n",
            "Review: <start>तमच करडिट कारड कठ आहत<end> \n",
            "Original summary: where are your credit cards \n",
            "Input seqeunce... [[ 237 2361 1887   32   10    0    0    0    0    0    0    0    0    0\n",
            "     0    0    0    0    0    0    0    0    0    0    0    0    0    0\n",
            "     0    0    0    0    0    0    0]]\n",
            "output_token.. [[[1.7902094e-06 1.0184049e-05 3.8774743e-07 ... 8.2040742e-07\n",
            "   1.6380128e-09 2.5088678e-09]]]\n",
            "output_token.. [[[5.7082084e-06 4.1377834e-06 3.0394327e-09 ... 1.0524494e-07\n",
            "   7.5091214e-07 1.2932536e-06]]]\n",
            "output_token.. [[[6.7230575e-03 4.0231425e-05 3.6805179e-08 ... 1.2768990e-07\n",
            "   1.4495577e-06 1.2609081e-06]]]\n",
            "output_token.. [[[5.2379656e-01 5.0965585e-03 7.2554792e-03 ... 9.6357400e-10\n",
            "   3.8487789e-07 3.5467146e-08]]]\n",
            "Decoded sequenced...  your older than\n",
            "Predicted summary:  your older than\n",
            "\n",
            "\n",
            "Review: <start>हव त पी<end> \n",
            "Original summary: drink whatever you want \n",
            "Input seqeunce... [[1682   19 3048    0    0    0    0    0    0    0    0    0    0    0\n",
            "     0    0    0    0    0    0    0    0    0    0    0    0    0    0\n",
            "     0    0    0    0    0    0    0]]\n",
            "output_token.. [[[5.0893921e-01 2.5837733e-03 2.2165820e-03 ... 3.7551967e-08\n",
            "   1.8894166e-08 4.6470516e-09]]]\n",
            "Decoded sequenced... \n",
            "Predicted summary: \n",
            "\n",
            "\n",
            "Review: <start>टॉम महणाला की मरीला फरच बोलता यत नाही<end> \n",
            "Original summary: tom said mary couldnt speak french \n",
            "Input seqeunce... [[  4 324  38 112  62 271  79   7   0   0   0   0   0   0   0   0   0   0\n",
            "    0   0   0   0   0   0   0   0   0   0   0   0   0   0   0   0   0]]\n",
            "output_token.. [[[2.5225778e-03 4.3320069e-03 7.0921198e-02 ... 2.2547381e-06\n",
            "   1.1634067e-08 3.8731454e-09]]]\n",
            "output_token.. [[[4.0912632e-02 3.4500698e-03 1.1175557e-02 ... 4.9257792e-06\n",
            "   1.4196760e-06 7.2364816e-07]]]\n",
            "output_token.. [[[4.5862831e-03 2.5135782e-02 1.7923154e-01 ... 1.3305515e-07\n",
            "   5.8869978e-06 9.4179381e-07]]]\n",
            "output_token.. [[[1.4644562e-01 4.2680763e-03 5.3959116e-03 ... 1.8411034e-06\n",
            "   2.2969427e-05 1.8553807e-06]]]\n",
            "Decoded sequenced...  here and you\n",
            "Predicted summary:  here and you\n",
            "\n",
            "\n"
          ],
          "name": "stdout"
        }
      ]
    },
    {
      "cell_type": "code",
      "metadata": {
        "id": "4VUfBTg6W6he"
      },
      "source": [
        "input_value = [ 237, 2361, 1887,   32,   10,    0,    0,    0,    0,    0,    0,    0,    0,    0,\n",
        "     0,    0,    0,    0,    0,    0,    0,    0,    0,    0,    0,    0,    0,    0,\n",
        "     0,    0,    0,    0,    0,    0,    0]"
      ],
      "execution_count": 96,
      "outputs": []
    },
    {
      "cell_type": "code",
      "metadata": {
        "colab": {
          "base_uri": "https://localhost:8080/"
        },
        "id": "vhoLW1T8XGIw",
        "outputId": "6397ee35-e35f-4c97-d0bf-7e425060a217"
      },
      "source": [
        "input_tensor_train[0]"
      ],
      "execution_count": 95,
      "outputs": [
        {
          "output_type": "execute_result",
          "data": {
            "text/plain": [
              "array([   6, 4199,  883,   13,    0,    0,    0,    0,    0,    0,    0,\n",
              "          0,    0,    0,    0,    0,    0,    0,    0,    0,    0,    0,\n",
              "          0,    0,    0,    0,    0,    0,    0,    0,    0,    0,    0,\n",
              "          0,    0], dtype=int32)"
            ]
          },
          "metadata": {
            "tags": []
          },
          "execution_count": 95
        }
      ]
    },
    {
      "cell_type": "code",
      "metadata": {
        "colab": {
          "base_uri": "https://localhost:8080/"
        },
        "id": "5ztcZs7pTPax",
        "outputId": "4229cc3f-f206-4646-e928-e04309ac1374"
      },
      "source": [
        "print(\"Input language: Index to word mapping...\")\n",
        "convert(inp_lang_tokenizer, input_value)\n",
        "print(\"Target Language; index to word mapping\")\n",
        "convert(targ_lang_tokenizer, input_value)"
      ],
      "execution_count": 100,
      "outputs": [
        {
          "output_type": "stream",
          "text": [
            "Input language: Index to word mapping...\n",
            "237 ------> <start>तमच\n",
            "2361 ------> करडिट\n",
            "1887 ------> कारड\n",
            "32 ------> कठ\n",
            "10 ------> आहत<end>\n",
            "Target Language; index to word mapping\n",
            "237 ------> mine\n",
            "2361 ------> boiled\n",
            "1887 ------> packed\n",
            "32 ------> know\n",
            "10 ------> do\n"
          ],
          "name": "stdout"
        }
      ]
    },
    {
      "cell_type": "code",
      "metadata": {
        "id": "mzOVgFAuXAq1"
      },
      "source": [
        ""
      ],
      "execution_count": null,
      "outputs": []
    }
  ]
}